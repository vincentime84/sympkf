{
 "cells": [
  {
   "cell_type": "markdown",
   "metadata": {
    "slideshow": {
     "slide_type": "slide"
    }
   },
   "source": [
    "O. Pannekoucke$^{1,2,3}$\n",
    "\n",
    "$^1$ INPT-ENM, Toulouse, France\n",
    "\n",
    "$^2$ CNRM, Université de Toulouse, Météo-France, CNRS, Toulouse, France\n",
    "\n",
    "$^3$ CERFACS, Toulouse, France\n",
    "\n",
    "(olivier.pannekoucke@meteo.fr)"
   ]
  },
  {
   "cell_type": "markdown",
   "metadata": {
    "slideshow": {
     "slide_type": "subslide"
    }
   },
   "source": [
    "**Abstract**\n",
    "\n",
    "This notebook illustrates the use of sympkf to build and handle the PKF dynamics associated with the transport of two chemical species over a 1D domain, and in the case of a periodic chemical reaction. Hence, the dynamics reads as \n",
    "$$\\left\\{\\begin{array}{c}\n",
    "\\partial_t A +u\\partial_x A =B\\\\\n",
    "\\partial_t B +u\\partial_x B =-A\n",
    "\\end{array}\\right.$$\n",
    "where $A$ and $B$ are functions of $t,x$, and $u(x)$ is a stationnary wind.\n",
    "\n",
    "Thanks to the splitting strategy, the PKF is first applied in 0D on the periodic reaction, than on the full dynamics."
   ]
  },
  {
   "cell_type": "markdown",
   "metadata": {},
   "source": [
    "# Definition of the 1D multivariate dynamics"
   ]
  },
  {
   "cell_type": "code",
   "execution_count": 20,
   "metadata": {
    "ExecuteTime": {
     "end_time": "2018-10-03T09:05:22.911943Z",
     "start_time": "2018-10-03T09:05:22.699109Z"
    }
   },
   "outputs": [],
   "source": [
    "import sympy\n",
    "sympy.init_printing() "
   ]
  },
  {
   "cell_type": "markdown",
   "metadata": {},
   "source": [
    "**Definition of the dynamics from sympy tools**"
   ]
  },
  {
   "cell_type": "code",
   "execution_count": 19,
   "metadata": {},
   "outputs": [],
   "source": [
    "from sympy import Function, Derivative, Eq, symbols\n",
    "from sympkf import SymbolicPKF, t, PDESystem"
   ]
  },
  {
   "cell_type": "code",
   "execution_count": 21,
   "metadata": {},
   "outputs": [],
   "source": [
    "x = symbols('x')\n",
    "u = Function('u')(x)\n",
    "A = Function('A')(t,x)\n",
    "B = Function('B')(t,x)"
   ]
  },
  {
   "cell_type": "markdown",
   "metadata": {},
   "source": [
    "# 0D periodic chemical reaction"
   ]
  },
  {
   "cell_type": "code",
   "execution_count": 22,
   "metadata": {},
   "outputs": [
    {
     "data": {
      "image/png": "[encoded data removed]",
      "text/latex": [
       "$\\displaystyle \\left[ \\frac{\\partial}{\\partial t} A{\\left(t,x \\right)} = B{\\left(t,x \\right)}, \\  \\frac{\\partial}{\\partial t} B{\\left(t,x \\right)} = - A{\\left(t,x \\right)}\\right]$"
      ],
      "text/plain": [
       "⎡∂                      ∂                     ⎤\n",
       "⎢──(A(t, x)) = B(t, x), ──(B(t, x)) = -A(t, x)⎥\n",
       "⎣∂t                     ∂t                    ⎦"
      ]
     },
     "execution_count": 22,
     "metadata": {},
     "output_type": "execute_result"
    }
   ],
   "source": [
    "# definition of the dynamics\n",
    "dynamics = [Eq(Derivative(A,t), B), Eq(Derivative(B,t),-A)]\n",
    "dynamics"
   ]
  },
  {
   "cell_type": "code",
   "execution_count": 23,
   "metadata": {},
   "outputs": [],
   "source": [
    "pkf_dynamics = SymbolicPKF(dynamics)"
   ]
  },
  {
   "cell_type": "code",
   "execution_count": 24,
   "metadata": {},
   "outputs": [
    {
     "data": {
      "text/plain": [
       "PDE System :\n",
       "        prognostic functions : A(t, x), B(t, x)\n",
       "        constant functions   : \n",
       "        exogeneous functions : \n",
       "        constants            : \n",
       "        "
      ]
     },
     "execution_count": 24,
     "metadata": {},
     "output_type": "execute_result"
    }
   ],
   "source": [
    "# Processing of the PDE system\n",
    "dyn = PDESystem( dynamics )\n",
    "dyn"
   ]
  },
  {
   "cell_type": "code",
   "execution_count": 25,
   "metadata": {},
   "outputs": [
    {
     "data": {
      "image/png": "[encoded data removed]",
      "text/latex": [
       "$\\displaystyle \\frac{\\partial}{\\partial t} A{\\left(t,x \\right)} = B{\\left(t,x \\right)}$"
      ],
      "text/plain": [
       "∂                    \n",
       "──(A(t, x)) = B(t, x)\n",
       "∂t                   "
      ]
     },
     "metadata": {},
     "output_type": "display_data"
    },
    {
     "data": {
      "image/png": "[encoded data removed]",
      "text/latex": [
       "$\\displaystyle \\frac{\\partial}{\\partial t} B{\\left(t,x \\right)} = - A{\\left(t,x \\right)}$"
      ],
      "text/plain": [
       "∂                     \n",
       "──(B(t, x)) = -A(t, x)\n",
       "∂t                    "
      ]
     },
     "metadata": {},
     "output_type": "display_data"
    },
    {
     "data": {
      "image/png": "[encoded data removed]",
      "text/latex": [
       "$\\displaystyle \\frac{\\partial}{\\partial t} \\operatorname{{V_{A}}}{\\left(t,x \\right)} = 2 \\operatorname{V_{AB}}{\\left(t,x \\right)}$"
      ],
      "text/plain": [
       "∂                               \n",
       "──({V_{A}}(t, x)) = 2⋅V_AB(t, x)\n",
       "∂t                              "
      ]
     },
     "metadata": {},
     "output_type": "display_data"
    },
    {
     "data": {
      "image/png": "[encoded data removed]",
      "text/latex": [
       "$\\displaystyle \\frac{\\partial}{\\partial t} \\operatorname{{V_{B}}}{\\left(t,x \\right)} = - 2 \\operatorname{V_{AB}}{\\left(t,x \\right)}$"
      ],
      "text/plain": [
       "∂                                \n",
       "──({V_{B}}(t, x)) = -2⋅V_AB(t, x)\n",
       "∂t                               "
      ]
     },
     "metadata": {},
     "output_type": "display_data"
    },
    {
     "data": {
      "image/png": "[encoded data removed]",
      "text/latex": [
       "$\\displaystyle \\frac{\\partial}{\\partial t} \\operatorname{V_{AB}}{\\left(t,x \\right)} = - \\operatorname{{V_{A}}}{\\left(t,x \\right)} + \\operatorname{{V_{B}}}{\\left(t,x \\right)}$"
      ],
      "text/plain": [
       "∂                                              \n",
       "──(V_AB(t, x)) = -{V_{A}}(t, x) + {V_{B}}(t, x)\n",
       "∂t                                             "
      ]
     },
     "metadata": {},
     "output_type": "display_data"
    },
    {
     "data": {
      "text/latex": [
       "$\\displaystyle \\frac{\\partial}{\\partial t} \\operatorname{{g_{A,xx}}}{\\left(t,x \\right)} = - \\frac{2 \\operatorname{V_{AB}}{\\left(t,x \\right)} \\operatorname{{g_{A,xx}}}{\\left(t,x \\right)}}{\\operatorname{{V_{A}}}{\\left(t,x \\right)}} + \\frac{2 \\sqrt{\\operatorname{{V_{B}}}{\\left(t,x \\right)}} {\\mathbb E}\\left(\\frac{\\partial}{\\partial x} \\operatorname{{\\varepsilon_{A}}}{\\left(t,x,\\omega \\right)} \\frac{\\partial}{\\partial x} \\operatorname{{\\varepsilon_{B}}}{\\left(t,x,\\omega \\right)}\\right)}{\\sqrt{\\operatorname{{V_{A}}}{\\left(t,x \\right)}}} + \\frac{{\\mathbb E}\\left(\\operatorname{{\\varepsilon_{B}}}{\\left(t,x,\\omega \\right)} \\frac{\\partial}{\\partial x} \\operatorname{{\\varepsilon_{A}}}{\\left(t,x,\\omega \\right)}\\right) \\frac{\\partial}{\\partial x} \\operatorname{{V_{B}}}{\\left(t,x \\right)}}{\\sqrt{\\operatorname{{V_{A}}}{\\left(t,x \\right)}} \\sqrt{\\operatorname{{V_{B}}}{\\left(t,x \\right)}}} - \\frac{\\sqrt{\\operatorname{{V_{B}}}{\\left(t,x \\right)}} {\\mathbb E}\\left(\\operatorname{{\\varepsilon_{B}}}{\\left(t,x,\\omega \\right)} \\frac{\\partial}{\\partial x} \\operatorname{{\\varepsilon_{A}}}{\\left(t,x,\\omega \\right)}\\right) \\frac{\\partial}{\\partial x} \\operatorname{{V_{A}}}{\\left(t,x \\right)}}{\\operatorname{{V_{A}}}^{\\frac{3}{2}}{\\left(t,x \\right)}}$"
      ],
      "text/plain": [
       "                                                             _______________  \n",
       "                                                         2⋅╲╱ {V_{B}}(t, x) ⋅E\n",
       "∂                        2⋅V_AB(t, x)⋅{g_{A,xx}}(t, x)                        \n",
       "──({g_{A,xx}}(t, x)) = - ───────────────────────────── + ─────────────────────\n",
       "∂t                               {V_{A}}(t, x)                                \n",
       "                                                                              \n",
       "\n",
       "          ⎛∂                              ∂                             ⎞     \n",
       "xpectation⎜──({\\varepsilon_{A}}(t, x, ω))⋅──({\\varepsilon_{B}}(t, x, ω))⎟   Ex\n",
       "          ⎝∂x                             ∂x                            ⎠     \n",
       "───────────────────────────────────────────────────────────────────────── + ──\n",
       "                   _______________                                            \n",
       "                 ╲╱ {V_{A}}(t, x)                                             \n",
       "\n",
       "         ⎛                           ∂                             ⎞ ∂        \n",
       "pectation⎜{\\varepsilon_{B}}(t, x, ω)⋅──({\\varepsilon_{A}}(t, x, ω))⎟⋅──({V_{B}\n",
       "         ⎝                           ∂x                            ⎠ ∂x       \n",
       "──────────────────────────────────────────────────────────────────────────────\n",
       "                          _______________   _______________                   \n",
       "                        ╲╱ {V_{A}}(t, x) ⋅╲╱ {V_{B}}(t, x)                    \n",
       "\n",
       "             _______________            ⎛                           ∂         \n",
       "}(t, x))   ╲╱ {V_{B}}(t, x) ⋅Expectation⎜{\\varepsilon_{B}}(t, x, ω)⋅──({\\varep\n",
       "                                        ⎝                           ∂x        \n",
       "──────── - ───────────────────────────────────────────────────────────────────\n",
       "                                                               3/2            \n",
       "                                                        {V_{A}}   (t, x)      \n",
       "\n",
       "                    ⎞ ∂                \n",
       "silon_{A}}(t, x, ω))⎟⋅──({V_{A}}(t, x))\n",
       "                    ⎠ ∂x               \n",
       "───────────────────────────────────────\n",
       "                                       \n",
       "                                       "
      ]
     },
     "metadata": {},
     "output_type": "display_data"
    },
    {
     "data": {
      "text/latex": [
       "$\\displaystyle \\frac{\\partial}{\\partial t} \\operatorname{{g_{B,xx}}}{\\left(t,x \\right)} = \\frac{2 \\operatorname{V_{AB}}{\\left(t,x \\right)} \\operatorname{{g_{B,xx}}}{\\left(t,x \\right)}}{\\operatorname{{V_{B}}}{\\left(t,x \\right)}} - \\frac{2 \\sqrt{\\operatorname{{V_{A}}}{\\left(t,x \\right)}} {\\mathbb E}\\left(\\frac{\\partial}{\\partial x} \\operatorname{{\\varepsilon_{A}}}{\\left(t,x,\\omega \\right)} \\frac{\\partial}{\\partial x} \\operatorname{{\\varepsilon_{B}}}{\\left(t,x,\\omega \\right)}\\right)}{\\sqrt{\\operatorname{{V_{B}}}{\\left(t,x \\right)}}} + \\frac{\\sqrt{\\operatorname{{V_{A}}}{\\left(t,x \\right)}} {\\mathbb E}\\left(\\operatorname{{\\varepsilon_{A}}}{\\left(t,x,\\omega \\right)} \\frac{\\partial}{\\partial x} \\operatorname{{\\varepsilon_{B}}}{\\left(t,x,\\omega \\right)}\\right) \\frac{\\partial}{\\partial x} \\operatorname{{V_{B}}}{\\left(t,x \\right)}}{\\operatorname{{V_{B}}}^{\\frac{3}{2}}{\\left(t,x \\right)}} - \\frac{{\\mathbb E}\\left(\\operatorname{{\\varepsilon_{A}}}{\\left(t,x,\\omega \\right)} \\frac{\\partial}{\\partial x} \\operatorname{{\\varepsilon_{B}}}{\\left(t,x,\\omega \\right)}\\right) \\frac{\\partial}{\\partial x} \\operatorname{{V_{A}}}{\\left(t,x \\right)}}{\\sqrt{\\operatorname{{V_{A}}}{\\left(t,x \\right)}} \\sqrt{\\operatorname{{V_{B}}}{\\left(t,x \\right)}}}$"
      ],
      "text/plain": [
       "                                                           _______________    \n",
       "                                                       2⋅╲╱ {V_{A}}(t, x) ⋅Exp\n",
       "∂                      2⋅V_AB(t, x)⋅{g_{B,xx}}(t, x)                          \n",
       "──({g_{B,xx}}(t, x)) = ───────────────────────────── - ───────────────────────\n",
       "∂t                             {V_{B}}(t, x)                                  \n",
       "                                                                              \n",
       "\n",
       "        ⎛∂                              ∂                             ⎞     __\n",
       "ectation⎜──({\\varepsilon_{A}}(t, x, ω))⋅──({\\varepsilon_{B}}(t, x, ω))⎟   ╲╱ {\n",
       "        ⎝∂x                             ∂x                            ⎠       \n",
       "─────────────────────────────────────────────────────────────────────── + ────\n",
       "                 _______________                                              \n",
       "               ╲╱ {V_{B}}(t, x)                                               \n",
       "\n",
       "_____________            ⎛                           ∂                        \n",
       "V_{A}}(t, x) ⋅Expectation⎜{\\varepsilon_{A}}(t, x, ω)⋅──({\\varepsilon_{B}}(t, x\n",
       "                         ⎝                           ∂x                       \n",
       "──────────────────────────────────────────────────────────────────────────────\n",
       "                                                3/2                           \n",
       "                                         {V_{B}}   (t, x)                     \n",
       "\n",
       "     ⎞ ∂                              ⎛                           ∂           \n",
       ", ω))⎟⋅──({V_{B}}(t, x))   Expectation⎜{\\varepsilon_{A}}(t, x, ω)⋅──({\\varepsi\n",
       "     ⎠ ∂x                             ⎝                           ∂x          \n",
       "──────────────────────── - ───────────────────────────────────────────────────\n",
       "                                                       _______________   _____\n",
       "                                                     ╲╱ {V_{A}}(t, x) ⋅╲╱ {V_{\n",
       "\n",
       "                  ⎞ ∂                \n",
       "lon_{B}}(t, x, ω))⎟⋅──({V_{A}}(t, x))\n",
       "                  ⎠ ∂x               \n",
       "─────────────────────────────────────\n",
       "__________                           \n",
       "B}}(t, x)                            "
      ]
     },
     "metadata": {},
     "output_type": "display_data"
    }
   ],
   "source": [
    "for equation in pkf_dynamics.in_metric:    \n",
    "    #display(equation.subs(pkf_dynamics.internal_closure)) \n",
    "    display(equation)"
   ]
  },
  {
   "cell_type": "code",
   "execution_count": 31,
   "metadata": {},
   "outputs": [
    {
     "data": {
      "image/png": "[encoded data removed]",
      "text/latex": [
       "$\\displaystyle \\frac{\\partial}{\\partial t} \\operatorname{{\\varepsilon_{A}}}{\\left(t,x,\\omega \\right)} = - \\frac{\\operatorname{V_{AB}}{\\left(t,x \\right)} \\operatorname{{\\varepsilon_{A}}}{\\left(t,x,\\omega \\right)}}{\\operatorname{{V_{A}}}{\\left(t,x \\right)}} - u{\\left(x \\right)} \\frac{\\partial}{\\partial x} \\operatorname{{\\varepsilon_{A}}}{\\left(t,x,\\omega \\right)} + \\frac{\\sqrt{\\operatorname{{V_{B}}}{\\left(t,x \\right)}} \\operatorname{{\\varepsilon_{B}}}{\\left(t,x,\\omega \\right)}}{\\sqrt{\\operatorname{{V_{A}}}{\\left(t,x \\right)}}}$"
      ],
      "text/plain": [
       "                                                                              \n",
       "∂                                  V_AB(t, x)⋅{\\varepsilon_{A}}(t, x, ω)      \n",
       "──({\\varepsilon_{A}}(t, x, ω)) = - ───────────────────────────────────── - u(x\n",
       "∂t                                             {V_{A}}(t, x)                  \n",
       "                                                                              \n",
       "\n",
       "                                     _______________                          \n",
       "  ∂                                ╲╱ {V_{B}}(t, x) ⋅{\\varepsilon_{B}}(t, x, ω\n",
       ")⋅──({\\varepsilon_{A}}(t, x, ω)) + ───────────────────────────────────────────\n",
       "  ∂x                                              _______________             \n",
       "                                                ╲╱ {V_{A}}(t, x)              \n",
       "\n",
       " \n",
       ")\n",
       "─\n",
       " \n",
       " "
      ]
     },
     "metadata": {},
     "output_type": "display_data"
    },
    {
     "data": {
      "image/png": "[encoded data removed]",
      "text/latex": [
       "$\\displaystyle \\frac{\\partial}{\\partial t} \\operatorname{{\\varepsilon_{B}}}{\\left(t,x,\\omega \\right)} = \\frac{\\operatorname{V_{AB}}{\\left(t,x \\right)} \\operatorname{{\\varepsilon_{B}}}{\\left(t,x,\\omega \\right)}}{\\operatorname{{V_{B}}}{\\left(t,x \\right)}} - u{\\left(x \\right)} \\frac{\\partial}{\\partial x} \\operatorname{{\\varepsilon_{B}}}{\\left(t,x,\\omega \\right)} - \\frac{\\sqrt{\\operatorname{{V_{A}}}{\\left(t,x \\right)}} \\operatorname{{\\varepsilon_{A}}}{\\left(t,x,\\omega \\right)}}{\\sqrt{\\operatorname{{V_{B}}}{\\left(t,x \\right)}}}$"
      ],
      "text/plain": [
       "                                                                              \n",
       "∂                                V_AB(t, x)⋅{\\varepsilon_{B}}(t, x, ω)        \n",
       "──({\\varepsilon_{B}}(t, x, ω)) = ───────────────────────────────────── - u(x)⋅\n",
       "∂t                                           {V_{B}}(t, x)                    \n",
       "                                                                              \n",
       "\n",
       "                                   _______________                           \n",
       "∂                                ╲╱ {V_{A}}(t, x) ⋅{\\varepsilon_{A}}(t, x, ω)\n",
       "──({\\varepsilon_{B}}(t, x, ω)) - ────────────────────────────────────────────\n",
       "∂x                                              _______________              \n",
       "                                              ╲╱ {V_{B}}(t, x)               "
      ]
     },
     "metadata": {},
     "output_type": "display_data"
    }
   ],
   "source": [
    "for equation in pkf_dynamics._epsilon_system:\n",
    "    display(equation)"
   ]
  },
  {
   "cell_type": "code",
   "execution_count": 33,
   "metadata": {},
   "outputs": [
    {
     "data": {
      "text/latex": [
       "$\\displaystyle {\\mathbb E}\\left(\\operatorname{{\\varepsilon_{A}}}{\\left(t,x,\\omega \\right)} \\frac{\\partial}{\\partial x} \\operatorname{{\\varepsilon_{B}}}{\\left(t,x,\\omega \\right)}\\right)$"
      ],
      "text/plain": [
       "           ⎛                           ∂                             ⎞\n",
       "Expectation⎜{\\varepsilon_{A}}(t, x, ω)⋅──({\\varepsilon_{B}}(t, x, ω))⎟\n",
       "           ⎝                           ∂x                            ⎠"
      ]
     },
     "metadata": {},
     "output_type": "display_data"
    },
    {
     "data": {
      "text/latex": [
       "$\\displaystyle {\\mathbb E}\\left(\\frac{\\partial}{\\partial x} \\operatorname{{\\varepsilon_{A}}}{\\left(t,x,\\omega \\right)} \\frac{\\partial}{\\partial x} \\operatorname{{\\varepsilon_{B}}}{\\left(t,x,\\omega \\right)}\\right)$"
      ],
      "text/plain": [
       "           ⎛∂                              ∂                             ⎞\n",
       "Expectation⎜──({\\varepsilon_{A}}(t, x, ω))⋅──({\\varepsilon_{B}}(t, x, ω))⎟\n",
       "           ⎝∂x                             ∂x                            ⎠"
      ]
     },
     "metadata": {},
     "output_type": "display_data"
    },
    {
     "data": {
      "text/latex": [
       "$\\displaystyle {\\mathbb E}\\left(\\operatorname{{\\varepsilon_{B}}}{\\left(t,x,\\omega \\right)} \\frac{\\partial}{\\partial x} \\operatorname{{\\varepsilon_{A}}}{\\left(t,x,\\omega \\right)}\\right)$"
      ],
      "text/plain": [
       "           ⎛                           ∂                             ⎞\n",
       "Expectation⎜{\\varepsilon_{B}}(t, x, ω)⋅──({\\varepsilon_{A}}(t, x, ω))⎟\n",
       "           ⎝                           ∂x                            ⎠"
      ]
     },
     "metadata": {},
     "output_type": "display_data"
    }
   ],
   "source": [
    "for term in pkf_dynamics.unclosed_terms:\n",
    "    display(term)"
   ]
  },
  {
   "cell_type": "markdown",
   "metadata": {},
   "source": [
    "# 1D transport of a periodic chemical reaction"
   ]
  },
  {
   "cell_type": "code",
   "execution_count": 27,
   "metadata": {},
   "outputs": [
    {
     "data": {
      "image/png": "[encoded data removed]",
      "text/latex": [
       "$\\displaystyle \\left[ \\frac{\\partial}{\\partial t} A{\\left(t,x \\right)} = B{\\left(t,x \\right)} - u{\\left(x \\right)} \\frac{\\partial}{\\partial x} A{\\left(t,x \\right)}, \\  \\frac{\\partial}{\\partial t} B{\\left(t,x \\right)} = - A{\\left(t,x \\right)} - u{\\left(x \\right)} \\frac{\\partial}{\\partial x} B{\\left(t,x \\right)}\\right]$"
      ],
      "text/plain": [
       "⎡∂                            ∂            ∂                             ∂    \n",
       "⎢──(A(t, x)) = B(t, x) - u(x)⋅──(A(t, x)), ──(B(t, x)) = -A(t, x) - u(x)⋅──(B(\n",
       "⎣∂t                           ∂x           ∂t                            ∂x   \n",
       "\n",
       "      ⎤\n",
       "t, x))⎥\n",
       "      ⎦"
      ]
     },
     "execution_count": 27,
     "metadata": {},
     "output_type": "execute_result"
    }
   ],
   "source": [
    "# Definition of the dynamics\n",
    "dynamics = [Eq(Derivative(A,t),-u*Derivative(A,x)+ B), Eq(Derivative(B,t), -u*Derivative(B,x)-A)]\n",
    "dynamics"
   ]
  },
  {
   "cell_type": "code",
   "execution_count": 28,
   "metadata": {},
   "outputs": [],
   "source": [
    "pkf_dynamics = SymbolicPKF(dynamics)"
   ]
  },
  {
   "cell_type": "code",
   "execution_count": 29,
   "metadata": {},
   "outputs": [
    {
     "data": {
      "text/plain": [
       "PDE System :\n",
       "        prognostic functions : A(t, x), B(t, x)\n",
       "        constant functions   : u(x)\n",
       "        exogeneous functions : \n",
       "        constants            : \n",
       "        "
      ]
     },
     "execution_count": 29,
     "metadata": {},
     "output_type": "execute_result"
    }
   ],
   "source": [
    "# Processing of the PDE system\n",
    "dyn = PDESystem( dynamics )\n",
    "dyn"
   ]
  },
  {
   "cell_type": "code",
   "execution_count": 30,
   "metadata": {},
   "outputs": [
    {
     "data": {
      "image/png": "[encoded data removed]",
      "text/latex": [
       "$\\displaystyle \\frac{\\partial}{\\partial t} A{\\left(t,x \\right)} = B{\\left(t,x \\right)} - u{\\left(x \\right)} \\frac{\\partial}{\\partial x} A{\\left(t,x \\right)}$"
      ],
      "text/plain": [
       "∂                            ∂          \n",
       "──(A(t, x)) = B(t, x) - u(x)⋅──(A(t, x))\n",
       "∂t                           ∂x         "
      ]
     },
     "metadata": {},
     "output_type": "display_data"
    },
    {
     "data": {
      "image/png": "[encoded data removed]",
      "text/latex": [
       "$\\displaystyle \\frac{\\partial}{\\partial t} B{\\left(t,x \\right)} = - A{\\left(t,x \\right)} - u{\\left(x \\right)} \\frac{\\partial}{\\partial x} B{\\left(t,x \\right)}$"
      ],
      "text/plain": [
       "∂                             ∂          \n",
       "──(B(t, x)) = -A(t, x) - u(x)⋅──(B(t, x))\n",
       "∂t                            ∂x         "
      ]
     },
     "metadata": {},
     "output_type": "display_data"
    },
    {
     "data": {
      "image/png": "[encoded data removed]",
      "text/latex": [
       "$\\displaystyle \\frac{\\partial}{\\partial t} \\operatorname{{V_{A}}}{\\left(t,x \\right)} = 2 \\operatorname{V_{AB}}{\\left(t,x \\right)} - u{\\left(x \\right)} \\frac{\\partial}{\\partial x} \\operatorname{{V_{A}}}{\\left(t,x \\right)}$"
      ],
      "text/plain": [
       "∂                                       ∂                \n",
       "──({V_{A}}(t, x)) = 2⋅V_AB(t, x) - u(x)⋅──({V_{A}}(t, x))\n",
       "∂t                                      ∂x               "
      ]
     },
     "metadata": {},
     "output_type": "display_data"
    },
    {
     "data": {
      "image/png": "[encoded data removed]",
      "text/latex": [
       "$\\displaystyle \\frac{\\partial}{\\partial t} \\operatorname{{V_{B}}}{\\left(t,x \\right)} = - 2 \\operatorname{V_{AB}}{\\left(t,x \\right)} - u{\\left(x \\right)} \\frac{\\partial}{\\partial x} \\operatorname{{V_{B}}}{\\left(t,x \\right)}$"
      ],
      "text/plain": [
       "∂                                        ∂                \n",
       "──({V_{B}}(t, x)) = -2⋅V_AB(t, x) - u(x)⋅──({V_{B}}(t, x))\n",
       "∂t                                       ∂x               "
      ]
     },
     "metadata": {},
     "output_type": "display_data"
    },
    {
     "data": {
      "text/latex": [
       "$\\displaystyle \\frac{\\partial}{\\partial t} \\operatorname{V_{AB}}{\\left(t,x \\right)} = - \\frac{\\operatorname{V_{AB}}{\\left(t,x \\right)} u{\\left(x \\right)} \\frac{\\partial}{\\partial x} \\operatorname{{V_{B}}}{\\left(t,x \\right)}}{2 \\operatorname{{V_{B}}}{\\left(t,x \\right)}} - \\frac{\\operatorname{V_{AB}}{\\left(t,x \\right)} u{\\left(x \\right)} \\frac{\\partial}{\\partial x} \\operatorname{{V_{A}}}{\\left(t,x \\right)}}{2 \\operatorname{{V_{A}}}{\\left(t,x \\right)}} - u{\\left(x \\right)} \\sqrt{\\operatorname{{V_{A}}}{\\left(t,x \\right)}} \\sqrt{\\operatorname{{V_{B}}}{\\left(t,x \\right)}} {\\mathbb E}\\left(\\operatorname{{\\varepsilon_{A}}}{\\left(t,x,\\omega \\right)} \\frac{\\partial}{\\partial x} \\operatorname{{\\varepsilon_{B}}}{\\left(t,x,\\omega \\right)}\\right) - u{\\left(x \\right)} \\sqrt{\\operatorname{{V_{A}}}{\\left(t,x \\right)}} \\sqrt{\\operatorname{{V_{B}}}{\\left(t,x \\right)}} {\\mathbb E}\\left(\\operatorname{{\\varepsilon_{B}}}{\\left(t,x,\\omega \\right)} \\frac{\\partial}{\\partial x} \\operatorname{{\\varepsilon_{A}}}{\\left(t,x,\\omega \\right)}\\right) - \\operatorname{{V_{A}}}{\\left(t,x \\right)} + \\operatorname{{V_{B}}}{\\left(t,x \\right)}$"
      ],
      "text/plain": [
       "                                   ∂                                   ∂      \n",
       "                   V_AB(t, x)⋅u(x)⋅──({V_{B}}(t, x))   V_AB(t, x)⋅u(x)⋅──({V_{\n",
       "∂                                  ∂x                                  ∂x     \n",
       "──(V_AB(t, x)) = - ───────────────────────────────── - ───────────────────────\n",
       "∂t                          2⋅{V_{B}}(t, x)                     2⋅{V_{A}}(t, x\n",
       "\n",
       "                                                                              \n",
       "A}}(t, x))                                                                    \n",
       "                    _______________   _______________            ⎛            \n",
       "────────── - u(x)⋅╲╱ {V_{A}}(t, x) ⋅╲╱ {V_{B}}(t, x) ⋅Expectation⎜{\\varepsilon\n",
       ")                                                                ⎝            \n",
       "\n",
       "                                                                              \n",
       "                                                                              \n",
       "               ∂                             ⎞          _______________   ____\n",
       "_{A}}(t, x, ω)⋅──({\\varepsilon_{B}}(t, x, ω))⎟ - u(x)⋅╲╱ {V_{A}}(t, x) ⋅╲╱ {V_\n",
       "               ∂x                            ⎠                                \n",
       "\n",
       "                                                                              \n",
       "                                                                              \n",
       "___________            ⎛                           ∂                          \n",
       "{B}}(t, x) ⋅Expectation⎜{\\varepsilon_{B}}(t, x, ω)⋅──({\\varepsilon_{A}}(t, x, \n",
       "                       ⎝                           ∂x                         \n",
       "\n",
       "                                    \n",
       "                                    \n",
       "   ⎞                                \n",
       "ω))⎟ - {V_{A}}(t, x) + {V_{B}}(t, x)\n",
       "   ⎠                                "
      ]
     },
     "metadata": {},
     "output_type": "display_data"
    },
    {
     "data": {
      "text/latex": [
       "$\\displaystyle \\frac{\\partial}{\\partial t} \\operatorname{{g_{A,xx}}}{\\left(t,x \\right)} = - \\frac{2 \\operatorname{V_{AB}}{\\left(t,x \\right)} \\operatorname{{g_{A,xx}}}{\\left(t,x \\right)}}{\\operatorname{{V_{A}}}{\\left(t,x \\right)}} - u{\\left(x \\right)} \\frac{\\partial}{\\partial x} \\operatorname{{g_{A,xx}}}{\\left(t,x \\right)} - 2 \\operatorname{{g_{A,xx}}}{\\left(t,x \\right)} \\frac{d}{d x} u{\\left(x \\right)} + \\frac{2 \\sqrt{\\operatorname{{V_{B}}}{\\left(t,x \\right)}} {\\mathbb E}\\left(\\frac{\\partial}{\\partial x} \\operatorname{{\\varepsilon_{A}}}{\\left(t,x,\\omega \\right)} \\frac{\\partial}{\\partial x} \\operatorname{{\\varepsilon_{B}}}{\\left(t,x,\\omega \\right)}\\right)}{\\sqrt{\\operatorname{{V_{A}}}{\\left(t,x \\right)}}} + \\frac{{\\mathbb E}\\left(\\operatorname{{\\varepsilon_{B}}}{\\left(t,x,\\omega \\right)} \\frac{\\partial}{\\partial x} \\operatorname{{\\varepsilon_{A}}}{\\left(t,x,\\omega \\right)}\\right) \\frac{\\partial}{\\partial x} \\operatorname{{V_{B}}}{\\left(t,x \\right)}}{\\sqrt{\\operatorname{{V_{A}}}{\\left(t,x \\right)}} \\sqrt{\\operatorname{{V_{B}}}{\\left(t,x \\right)}}} - \\frac{\\sqrt{\\operatorname{{V_{B}}}{\\left(t,x \\right)}} {\\mathbb E}\\left(\\operatorname{{\\varepsilon_{B}}}{\\left(t,x,\\omega \\right)} \\frac{\\partial}{\\partial x} \\operatorname{{\\varepsilon_{A}}}{\\left(t,x,\\omega \\right)}\\right) \\frac{\\partial}{\\partial x} \\operatorname{{V_{A}}}{\\left(t,x \\right)}}{\\operatorname{{V_{A}}}^{\\frac{3}{2}}{\\left(t,x \\right)}}$"
      ],
      "text/plain": [
       "                                                                              \n",
       "                                                                              \n",
       "∂                        2⋅V_AB(t, x)⋅{g_{A,xx}}(t, x)        ∂               \n",
       "──({g_{A,xx}}(t, x)) = - ───────────────────────────── - u(x)⋅──({g_{A,xx}}(t,\n",
       "∂t                               {V_{A}}(t, x)                ∂x              \n",
       "                                                                              \n",
       "\n",
       "                                         _______________            ⎛∂        \n",
       "                                     2⋅╲╱ {V_{B}}(t, x) ⋅Expectation⎜──({\\vare\n",
       "                          d                                         ⎝∂x       \n",
       " x)) - 2⋅{g_{A,xx}}(t, x)⋅──(u(x)) + ─────────────────────────────────────────\n",
       "                          dx                                                 _\n",
       "                                                                           ╲╱ \n",
       "\n",
       "                      ∂                             ⎞              ⎛          \n",
       "psilon_{A}}(t, x, ω))⋅──({\\varepsilon_{B}}(t, x, ω))⎟   Expectation⎜{\\varepsil\n",
       "                      ∂x                            ⎠              ⎝          \n",
       "───────────────────────────────────────────────────── + ──────────────────────\n",
       "______________                                                                \n",
       "{V_{A}}(t, x)                                                                 \n",
       "\n",
       "                 ∂                             ⎞ ∂                     _______\n",
       "on_{B}}(t, x, ω)⋅──({\\varepsilon_{A}}(t, x, ω))⎟⋅──({V_{B}}(t, x))   ╲╱ {V_{B}\n",
       "                 ∂x                            ⎠ ∂x                           \n",
       "────────────────────────────────────────────────────────────────── - ─────────\n",
       "      _______________   _______________                                       \n",
       "    ╲╱ {V_{A}}(t, x) ⋅╲╱ {V_{B}}(t, x)                                        \n",
       "\n",
       "________            ⎛                           ∂                             \n",
       "}(t, x) ⋅Expectation⎜{\\varepsilon_{B}}(t, x, ω)⋅──({\\varepsilon_{A}}(t, x, ω))\n",
       "                    ⎝                           ∂x                            \n",
       "──────────────────────────────────────────────────────────────────────────────\n",
       "                                           3/2                                \n",
       "                                    {V_{A}}   (t, x)                          \n",
       "\n",
       "⎞ ∂                \n",
       "⎟⋅──({V_{A}}(t, x))\n",
       "⎠ ∂x               \n",
       "───────────────────\n",
       "                   \n",
       "                   "
      ]
     },
     "metadata": {},
     "output_type": "display_data"
    },
    {
     "data": {
      "text/latex": [
       "$\\displaystyle \\frac{\\partial}{\\partial t} \\operatorname{{g_{B,xx}}}{\\left(t,x \\right)} = \\frac{2 \\operatorname{V_{AB}}{\\left(t,x \\right)} \\operatorname{{g_{B,xx}}}{\\left(t,x \\right)}}{\\operatorname{{V_{B}}}{\\left(t,x \\right)}} - u{\\left(x \\right)} \\frac{\\partial}{\\partial x} \\operatorname{{g_{B,xx}}}{\\left(t,x \\right)} - \\frac{2 \\sqrt{\\operatorname{{V_{A}}}{\\left(t,x \\right)}} {\\mathbb E}\\left(\\frac{\\partial}{\\partial x} \\operatorname{{\\varepsilon_{A}}}{\\left(t,x,\\omega \\right)} \\frac{\\partial}{\\partial x} \\operatorname{{\\varepsilon_{B}}}{\\left(t,x,\\omega \\right)}\\right)}{\\sqrt{\\operatorname{{V_{B}}}{\\left(t,x \\right)}}} + \\frac{\\sqrt{\\operatorname{{V_{A}}}{\\left(t,x \\right)}} {\\mathbb E}\\left(\\operatorname{{\\varepsilon_{A}}}{\\left(t,x,\\omega \\right)} \\frac{\\partial}{\\partial x} \\operatorname{{\\varepsilon_{B}}}{\\left(t,x,\\omega \\right)}\\right) \\frac{\\partial}{\\partial x} \\operatorname{{V_{B}}}{\\left(t,x \\right)}}{\\operatorname{{V_{B}}}^{\\frac{3}{2}}{\\left(t,x \\right)}} - 2 \\operatorname{{g_{B,xx}}}{\\left(t,x \\right)} \\frac{d}{d x} u{\\left(x \\right)} - \\frac{{\\mathbb E}\\left(\\operatorname{{\\varepsilon_{A}}}{\\left(t,x,\\omega \\right)} \\frac{\\partial}{\\partial x} \\operatorname{{\\varepsilon_{B}}}{\\left(t,x,\\omega \\right)}\\right) \\frac{\\partial}{\\partial x} \\operatorname{{V_{A}}}{\\left(t,x \\right)}}{\\sqrt{\\operatorname{{V_{A}}}{\\left(t,x \\right)}} \\sqrt{\\operatorname{{V_{B}}}{\\left(t,x \\right)}}}$"
      ],
      "text/plain": [
       "                                                                              \n",
       "                                                                              \n",
       "∂                      2⋅V_AB(t, x)⋅{g_{B,xx}}(t, x)        ∂                 \n",
       "──({g_{B,xx}}(t, x)) = ───────────────────────────── - u(x)⋅──({g_{B,xx}}(t, x\n",
       "∂t                             {V_{B}}(t, x)                ∂x                \n",
       "                                                                              \n",
       "\n",
       "         _______________            ⎛∂                              ∂         \n",
       "     2⋅╲╱ {V_{A}}(t, x) ⋅Expectation⎜──({\\varepsilon_{A}}(t, x, ω))⋅──({\\varep\n",
       "                                    ⎝∂x                             ∂x        \n",
       ")) - ─────────────────────────────────────────────────────────────────────────\n",
       "                                             _______________                  \n",
       "                                           ╲╱ {V_{B}}(t, x)                   \n",
       "\n",
       "                    ⎞     _______________            ⎛                        \n",
       "silon_{B}}(t, x, ω))⎟   ╲╱ {V_{A}}(t, x) ⋅Expectation⎜{\\varepsilon_{A}}(t, x, \n",
       "                    ⎠                                ⎝                        \n",
       "───────────────────── + ──────────────────────────────────────────────────────\n",
       "                                                                            3/\n",
       "                                                                     {V_{B}}  \n",
       "\n",
       "   ∂                             ⎞ ∂                                          \n",
       "ω)⋅──({\\varepsilon_{B}}(t, x, ω))⎟⋅──({V_{B}}(t, x))                          \n",
       "   ∂x                            ⎠ ∂x                                     d   \n",
       "──────────────────────────────────────────────────── - 2⋅{g_{B,xx}}(t, x)⋅──(u\n",
       "2                                                                         dx  \n",
       " (t, x)                                                                       \n",
       "\n",
       "                  ⎛                           ∂                             ⎞ \n",
       "       Expectation⎜{\\varepsilon_{A}}(t, x, ω)⋅──({\\varepsilon_{B}}(t, x, ω))⎟⋅\n",
       "                  ⎝                           ∂x                            ⎠ \n",
       "(x)) - ───────────────────────────────────────────────────────────────────────\n",
       "                                   _______________   _______________          \n",
       "                                 ╲╱ {V_{A}}(t, x) ⋅╲╱ {V_{B}}(t, x)           \n",
       "\n",
       "∂                \n",
       "──({V_{A}}(t, x))\n",
       "∂x               \n",
       "─────────────────\n",
       "                 \n",
       "                 "
      ]
     },
     "metadata": {},
     "output_type": "display_data"
    }
   ],
   "source": [
    "for equation in pkf_dynamics.in_metric:    \n",
    "    #display(equation.subs(pkf_dynamics.internal_closure)) \n",
    "    display(equation)"
   ]
  },
  {
   "cell_type": "code",
   "execution_count": 10,
   "metadata": {},
   "outputs": [
    {
     "data": {
      "image/png": "[encoded data removed]",
      "text/latex": [
       "$\\displaystyle \\frac{\\partial}{\\partial t} A{\\left(t,x \\right)} = B{\\left(t,x \\right)} - u{\\left(x \\right)} \\frac{\\partial}{\\partial x} A{\\left(t,x \\right)}$"
      ],
      "text/plain": [
       "∂                            ∂          \n",
       "──(A(t, x)) = B(t, x) - u(x)⋅──(A(t, x))\n",
       "∂t                           ∂x         "
      ]
     },
     "metadata": {},
     "output_type": "display_data"
    },
    {
     "data": {
      "image/png": "[encoded data removed]",
      "text/latex": [
       "$\\displaystyle \\frac{\\partial}{\\partial t} B{\\left(t,x \\right)} = - A{\\left(t,x \\right)} - u{\\left(x \\right)} \\frac{\\partial}{\\partial x} B{\\left(t,x \\right)}$"
      ],
      "text/plain": [
       "∂                             ∂          \n",
       "──(B(t, x)) = -A(t, x) - u(x)⋅──(B(t, x))\n",
       "∂t                            ∂x         "
      ]
     },
     "metadata": {},
     "output_type": "display_data"
    },
    {
     "data": {
      "image/png": "[encoded data removed]",
      "text/latex": [
       "$\\displaystyle \\frac{\\partial}{\\partial t} \\operatorname{{V_{A}}}{\\left(t,x \\right)} = 2 \\operatorname{V_{AB}}{\\left(t,x \\right)} - u{\\left(x \\right)} \\frac{\\partial}{\\partial x} \\operatorname{{V_{A}}}{\\left(t,x \\right)}$"
      ],
      "text/plain": [
       "∂                                       ∂                \n",
       "──({V_{A}}(t, x)) = 2⋅V_AB(t, x) - u(x)⋅──({V_{A}}(t, x))\n",
       "∂t                                      ∂x               "
      ]
     },
     "metadata": {},
     "output_type": "display_data"
    },
    {
     "data": {
      "image/png": "[encoded data removed]",
      "text/latex": [
       "$\\displaystyle \\frac{\\partial}{\\partial t} \\operatorname{{V_{B}}}{\\left(t,x \\right)} = - 2 \\operatorname{V_{AB}}{\\left(t,x \\right)} - u{\\left(x \\right)} \\frac{\\partial}{\\partial x} \\operatorname{{V_{B}}}{\\left(t,x \\right)}$"
      ],
      "text/plain": [
       "∂                                        ∂                \n",
       "──({V_{B}}(t, x)) = -2⋅V_AB(t, x) - u(x)⋅──({V_{B}}(t, x))\n",
       "∂t                                       ∂x               "
      ]
     },
     "metadata": {},
     "output_type": "display_data"
    },
    {
     "data": {
      "image/png": "[encoded data removed]",
      "text/latex": [
       "$\\displaystyle \\frac{\\partial}{\\partial t} \\operatorname{V_{AB}}{\\left(t,x \\right)} = - \\frac{\\operatorname{V_{AB}}{\\left(t,x \\right)} u{\\left(x \\right)} \\frac{\\partial}{\\partial x} \\operatorname{{V_{B}}}{\\left(t,x \\right)}}{2 \\operatorname{{V_{B}}}{\\left(t,x \\right)}} - \\frac{\\operatorname{V_{AB}}{\\left(t,x \\right)} u{\\left(x \\right)} \\frac{\\partial}{\\partial x} \\operatorname{{V_{A}}}{\\left(t,x \\right)}}{2 \\operatorname{{V_{A}}}{\\left(t,x \\right)}} - u{\\left(x \\right)} \\sqrt{\\operatorname{{V_{A}}}{\\left(t,x \\right)}} \\sqrt{\\operatorname{{V_{B}}}{\\left(t,x \\right)}} {\\mathbb E}\\left(\\operatorname{{\\varepsilon_{A}}}{\\left(t,x,\\omega \\right)} \\frac{\\partial}{\\partial x} \\operatorname{{\\varepsilon_{B}}}{\\left(t,x,\\omega \\right)}\\right) - u{\\left(x \\right)} \\sqrt{\\operatorname{{V_{A}}}{\\left(t,x \\right)}} \\sqrt{\\operatorname{{V_{B}}}{\\left(t,x \\right)}} {\\mathbb E}\\left(\\operatorname{{\\varepsilon_{B}}}{\\left(t,x,\\omega \\right)} \\frac{\\partial}{\\partial x} \\operatorname{{\\varepsilon_{A}}}{\\left(t,x,\\omega \\right)}\\right) - \\operatorname{{V_{A}}}{\\left(t,x \\right)} + \\operatorname{{V_{B}}}{\\left(t,x \\right)}$"
      ],
      "text/plain": [
       "                                   ∂                                   ∂      \n",
       "                   V_AB(t, x)⋅u(x)⋅──({V_{B}}(t, x))   V_AB(t, x)⋅u(x)⋅──({V_{\n",
       "∂                                  ∂x                                  ∂x     \n",
       "──(V_AB(t, x)) = - ───────────────────────────────── - ───────────────────────\n",
       "∂t                          2⋅{V_{B}}(t, x)                     2⋅{V_{A}}(t, x\n",
       "\n",
       "                                                                              \n",
       "A}}(t, x))                                                                    \n",
       "                    _______________   _______________            ⎛            \n",
       "────────── - u(x)⋅╲╱ {V_{A}}(t, x) ⋅╲╱ {V_{B}}(t, x) ⋅Expectation⎜{\\varepsilon\n",
       ")                                                                ⎝            \n",
       "\n",
       "                                                                              \n",
       "                                                                              \n",
       "               ∂                             ⎞          _______________   ____\n",
       "_{A}}(t, x, ω)⋅──({\\varepsilon_{B}}(t, x, ω))⎟ - u(x)⋅╲╱ {V_{A}}(t, x) ⋅╲╱ {V_\n",
       "               ∂x                            ⎠                                \n",
       "\n",
       "                                                                              \n",
       "                                                                              \n",
       "___________            ⎛                           ∂                          \n",
       "{B}}(t, x) ⋅Expectation⎜{\\varepsilon_{B}}(t, x, ω)⋅──({\\varepsilon_{A}}(t, x, \n",
       "                       ⎝                           ∂x                         \n",
       "\n",
       "                                    \n",
       "                                    \n",
       "   ⎞                                \n",
       "ω))⎟ - {V_{A}}(t, x) + {V_{B}}(t, x)\n",
       "   ⎠                                "
      ]
     },
     "metadata": {},
     "output_type": "display_data"
    },
    {
     "data": {
      "image/png": "[encoded data removed]",
      "text/latex": [
       "$\\displaystyle \\frac{\\partial}{\\partial t} \\operatorname{{g_{A,xx}}}{\\left(t,x \\right)} = - \\frac{2 \\operatorname{V_{AB}}{\\left(t,x \\right)} \\operatorname{{g_{A,xx}}}{\\left(t,x \\right)}}{\\operatorname{{V_{A}}}{\\left(t,x \\right)}} - u{\\left(x \\right)} \\frac{\\partial}{\\partial x} \\operatorname{{g_{A,xx}}}{\\left(t,x \\right)} - 2 \\operatorname{{g_{A,xx}}}{\\left(t,x \\right)} \\frac{d}{d x} u{\\left(x \\right)} + \\frac{2 \\sqrt{\\operatorname{{V_{B}}}{\\left(t,x \\right)}} {\\mathbb E}\\left(\\frac{\\partial}{\\partial x} \\operatorname{{\\varepsilon_{A}}}{\\left(t,x,\\omega \\right)} \\frac{\\partial}{\\partial x} \\operatorname{{\\varepsilon_{B}}}{\\left(t,x,\\omega \\right)}\\right)}{\\sqrt{\\operatorname{{V_{A}}}{\\left(t,x \\right)}}} + \\frac{{\\mathbb E}\\left(\\operatorname{{\\varepsilon_{B}}}{\\left(t,x,\\omega \\right)} \\frac{\\partial}{\\partial x} \\operatorname{{\\varepsilon_{A}}}{\\left(t,x,\\omega \\right)}\\right) \\frac{\\partial}{\\partial x} \\operatorname{{V_{B}}}{\\left(t,x \\right)}}{\\sqrt{\\operatorname{{V_{A}}}{\\left(t,x \\right)}} \\sqrt{\\operatorname{{V_{B}}}{\\left(t,x \\right)}}} - \\frac{\\sqrt{\\operatorname{{V_{B}}}{\\left(t,x \\right)}} {\\mathbb E}\\left(\\operatorname{{\\varepsilon_{B}}}{\\left(t,x,\\omega \\right)} \\frac{\\partial}{\\partial x} \\operatorname{{\\varepsilon_{A}}}{\\left(t,x,\\omega \\right)}\\right) \\frac{\\partial}{\\partial x} \\operatorname{{V_{A}}}{\\left(t,x \\right)}}{\\operatorname{{V_{A}}}^{\\frac{3}{2}}{\\left(t,x \\right)}}$"
      ],
      "text/plain": [
       "                                                                              \n",
       "                                                                              \n",
       "∂                        2⋅V_AB(t, x)⋅{g_{A,xx}}(t, x)        ∂               \n",
       "──({g_{A,xx}}(t, x)) = - ───────────────────────────── - u(x)⋅──({g_{A,xx}}(t,\n",
       "∂t                               {V_{A}}(t, x)                ∂x              \n",
       "                                                                              \n",
       "\n",
       "                                         _______________            ⎛∂        \n",
       "                                     2⋅╲╱ {V_{B}}(t, x) ⋅Expectation⎜──({\\vare\n",
       "                          d                                         ⎝∂x       \n",
       " x)) - 2⋅{g_{A,xx}}(t, x)⋅──(u(x)) + ─────────────────────────────────────────\n",
       "                          dx                                                 _\n",
       "                                                                           ╲╱ \n",
       "\n",
       "                      ∂                             ⎞              ⎛          \n",
       "psilon_{A}}(t, x, ω))⋅──({\\varepsilon_{B}}(t, x, ω))⎟   Expectation⎜{\\varepsil\n",
       "                      ∂x                            ⎠              ⎝          \n",
       "───────────────────────────────────────────────────── + ──────────────────────\n",
       "______________                                                                \n",
       "{V_{A}}(t, x)                                                                 \n",
       "\n",
       "                 ∂                             ⎞ ∂                     _______\n",
       "on_{B}}(t, x, ω)⋅──({\\varepsilon_{A}}(t, x, ω))⎟⋅──({V_{B}}(t, x))   ╲╱ {V_{B}\n",
       "                 ∂x                            ⎠ ∂x                           \n",
       "────────────────────────────────────────────────────────────────── - ─────────\n",
       "      _______________   _______________                                       \n",
       "    ╲╱ {V_{A}}(t, x) ⋅╲╱ {V_{B}}(t, x)                                        \n",
       "\n",
       "________            ⎛                           ∂                             \n",
       "}(t, x) ⋅Expectation⎜{\\varepsilon_{B}}(t, x, ω)⋅──({\\varepsilon_{A}}(t, x, ω))\n",
       "                    ⎝                           ∂x                            \n",
       "──────────────────────────────────────────────────────────────────────────────\n",
       "                                           3/2                                \n",
       "                                    {V_{A}}   (t, x)                          \n",
       "\n",
       "⎞ ∂                \n",
       "⎟⋅──({V_{A}}(t, x))\n",
       "⎠ ∂x               \n",
       "───────────────────\n",
       "                   \n",
       "                   "
      ]
     },
     "metadata": {},
     "output_type": "display_data"
    },
    {
     "data": {
      "image/png": "[encoded data removed]",
      "text/latex": [
       "$\\displaystyle \\frac{\\partial}{\\partial t} \\operatorname{{g_{B,xx}}}{\\left(t,x \\right)} = \\frac{2 \\operatorname{V_{AB}}{\\left(t,x \\right)} \\operatorname{{g_{B,xx}}}{\\left(t,x \\right)}}{\\operatorname{{V_{B}}}{\\left(t,x \\right)}} - u{\\left(x \\right)} \\frac{\\partial}{\\partial x} \\operatorname{{g_{B,xx}}}{\\left(t,x \\right)} - \\frac{2 \\sqrt{\\operatorname{{V_{A}}}{\\left(t,x \\right)}} {\\mathbb E}\\left(\\frac{\\partial}{\\partial x} \\operatorname{{\\varepsilon_{A}}}{\\left(t,x,\\omega \\right)} \\frac{\\partial}{\\partial x} \\operatorname{{\\varepsilon_{B}}}{\\left(t,x,\\omega \\right)}\\right)}{\\sqrt{\\operatorname{{V_{B}}}{\\left(t,x \\right)}}} + \\frac{\\sqrt{\\operatorname{{V_{A}}}{\\left(t,x \\right)}} {\\mathbb E}\\left(\\operatorname{{\\varepsilon_{A}}}{\\left(t,x,\\omega \\right)} \\frac{\\partial}{\\partial x} \\operatorname{{\\varepsilon_{B}}}{\\left(t,x,\\omega \\right)}\\right) \\frac{\\partial}{\\partial x} \\operatorname{{V_{B}}}{\\left(t,x \\right)}}{\\operatorname{{V_{B}}}^{\\frac{3}{2}}{\\left(t,x \\right)}} - 2 \\operatorname{{g_{B,xx}}}{\\left(t,x \\right)} \\frac{d}{d x} u{\\left(x \\right)} - \\frac{{\\mathbb E}\\left(\\operatorname{{\\varepsilon_{A}}}{\\left(t,x,\\omega \\right)} \\frac{\\partial}{\\partial x} \\operatorname{{\\varepsilon_{B}}}{\\left(t,x,\\omega \\right)}\\right) \\frac{\\partial}{\\partial x} \\operatorname{{V_{A}}}{\\left(t,x \\right)}}{\\sqrt{\\operatorname{{V_{A}}}{\\left(t,x \\right)}} \\sqrt{\\operatorname{{V_{B}}}{\\left(t,x \\right)}}}$"
      ],
      "text/plain": [
       "                                                                              \n",
       "                                                                              \n",
       "∂                      2⋅V_AB(t, x)⋅{g_{B,xx}}(t, x)        ∂                 \n",
       "──({g_{B,xx}}(t, x)) = ───────────────────────────── - u(x)⋅──({g_{B,xx}}(t, x\n",
       "∂t                             {V_{B}}(t, x)                ∂x                \n",
       "                                                                              \n",
       "\n",
       "         _______________            ⎛∂                              ∂         \n",
       "     2⋅╲╱ {V_{A}}(t, x) ⋅Expectation⎜──({\\varepsilon_{A}}(t, x, ω))⋅──({\\varep\n",
       "                                    ⎝∂x                             ∂x        \n",
       ")) - ─────────────────────────────────────────────────────────────────────────\n",
       "                                             _______________                  \n",
       "                                           ╲╱ {V_{B}}(t, x)                   \n",
       "\n",
       "                    ⎞     _______________            ⎛                        \n",
       "silon_{B}}(t, x, ω))⎟   ╲╱ {V_{A}}(t, x) ⋅Expectation⎜{\\varepsilon_{A}}(t, x, \n",
       "                    ⎠                                ⎝                        \n",
       "───────────────────── + ──────────────────────────────────────────────────────\n",
       "                                                                            3/\n",
       "                                                                     {V_{B}}  \n",
       "\n",
       "   ∂                             ⎞ ∂                                          \n",
       "ω)⋅──({\\varepsilon_{B}}(t, x, ω))⎟⋅──({V_{B}}(t, x))                          \n",
       "   ∂x                            ⎠ ∂x                                     d   \n",
       "──────────────────────────────────────────────────── - 2⋅{g_{B,xx}}(t, x)⋅──(u\n",
       "2                                                                         dx  \n",
       " (t, x)                                                                       \n",
       "\n",
       "                  ⎛                           ∂                             ⎞ \n",
       "       Expectation⎜{\\varepsilon_{A}}(t, x, ω)⋅──({\\varepsilon_{B}}(t, x, ω))⎟⋅\n",
       "                  ⎝                           ∂x                            ⎠ \n",
       "(x)) - ───────────────────────────────────────────────────────────────────────\n",
       "                                   _______________   _______________          \n",
       "                                 ╲╱ {V_{A}}(t, x) ⋅╲╱ {V_{B}}(t, x)           \n",
       "\n",
       "∂                \n",
       "──({V_{A}}(t, x))\n",
       "∂x               \n",
       "─────────────────\n",
       "                 \n",
       "                 "
      ]
     },
     "metadata": {},
     "output_type": "display_data"
    }
   ],
   "source": [
    "for equation in pkf_dynamics.in_metric:    \n",
    "    display(equation.subs(pkf_dynamics.internal_closure))     "
   ]
  },
  {
   "cell_type": "code",
   "execution_count": 34,
   "metadata": {},
   "outputs": [
    {
     "data": {
      "image/png": "[encoded data removed]",
      "text/latex": [
       "$\\displaystyle \\frac{\\partial}{\\partial t} A{\\left(t,x \\right)} = B{\\left(t,x \\right)} - u{\\left(x \\right)} \\frac{\\partial}{\\partial x} A{\\left(t,x \\right)}$"
      ],
      "text/plain": [
       "∂                            ∂          \n",
       "──(A(t, x)) = B(t, x) - u(x)⋅──(A(t, x))\n",
       "∂t                           ∂x         "
      ]
     },
     "metadata": {},
     "output_type": "display_data"
    },
    {
     "data": {
      "image/png": "[encoded data removed]",
      "text/latex": [
       "$\\displaystyle \\frac{\\partial}{\\partial t} B{\\left(t,x \\right)} = - A{\\left(t,x \\right)} - u{\\left(x \\right)} \\frac{\\partial}{\\partial x} B{\\left(t,x \\right)}$"
      ],
      "text/plain": [
       "∂                             ∂          \n",
       "──(B(t, x)) = -A(t, x) - u(x)⋅──(B(t, x))\n",
       "∂t                            ∂x         "
      ]
     },
     "metadata": {},
     "output_type": "display_data"
    },
    {
     "data": {
      "image/png": "[encoded data removed]",
      "text/latex": [
       "$\\displaystyle \\frac{\\partial}{\\partial t} \\operatorname{{V_{A}}}{\\left(t,x \\right)} = 2 \\operatorname{V_{AB}}{\\left(t,x \\right)} - u{\\left(x \\right)} \\frac{\\partial}{\\partial x} \\operatorname{{V_{A}}}{\\left(t,x \\right)}$"
      ],
      "text/plain": [
       "∂                                       ∂                \n",
       "──({V_{A}}(t, x)) = 2⋅V_AB(t, x) - u(x)⋅──({V_{A}}(t, x))\n",
       "∂t                                      ∂x               "
      ]
     },
     "metadata": {},
     "output_type": "display_data"
    },
    {
     "data": {
      "image/png": "[encoded data removed]",
      "text/latex": [
       "$\\displaystyle \\frac{\\partial}{\\partial t} \\operatorname{{V_{B}}}{\\left(t,x \\right)} = - 2 \\operatorname{V_{AB}}{\\left(t,x \\right)} - u{\\left(x \\right)} \\frac{\\partial}{\\partial x} \\operatorname{{V_{B}}}{\\left(t,x \\right)}$"
      ],
      "text/plain": [
       "∂                                        ∂                \n",
       "──({V_{B}}(t, x)) = -2⋅V_AB(t, x) - u(x)⋅──({V_{B}}(t, x))\n",
       "∂t                                       ∂x               "
      ]
     },
     "metadata": {},
     "output_type": "display_data"
    },
    {
     "data": {
      "text/latex": [
       "$\\displaystyle \\frac{\\partial}{\\partial t} \\operatorname{V_{AB}}{\\left(t,x \\right)} = - \\frac{\\operatorname{V_{AB}}{\\left(t,x \\right)} u{\\left(x \\right)} \\frac{\\partial}{\\partial x} \\operatorname{{V_{B}}}{\\left(t,x \\right)}}{2 \\operatorname{{V_{B}}}{\\left(t,x \\right)}} - \\frac{\\operatorname{V_{AB}}{\\left(t,x \\right)} u{\\left(x \\right)} \\frac{\\partial}{\\partial x} \\operatorname{{V_{A}}}{\\left(t,x \\right)}}{2 \\operatorname{{V_{A}}}{\\left(t,x \\right)}} - u{\\left(x \\right)} \\sqrt{\\operatorname{{V_{A}}}{\\left(t,x \\right)}} \\sqrt{\\operatorname{{V_{B}}}{\\left(t,x \\right)}} {\\mathbb E}\\left(\\operatorname{{\\varepsilon_{A}}}{\\left(t,x,\\omega \\right)} \\frac{\\partial}{\\partial x} \\operatorname{{\\varepsilon_{B}}}{\\left(t,x,\\omega \\right)}\\right) - u{\\left(x \\right)} \\sqrt{\\operatorname{{V_{A}}}{\\left(t,x \\right)}} \\sqrt{\\operatorname{{V_{B}}}{\\left(t,x \\right)}} {\\mathbb E}\\left(\\operatorname{{\\varepsilon_{B}}}{\\left(t,x,\\omega \\right)} \\frac{\\partial}{\\partial x} \\operatorname{{\\varepsilon_{A}}}{\\left(t,x,\\omega \\right)}\\right) - \\operatorname{{V_{A}}}{\\left(t,x \\right)} + \\operatorname{{V_{B}}}{\\left(t,x \\right)}$"
      ],
      "text/plain": [
       "                                   ∂                                   ∂      \n",
       "                   V_AB(t, x)⋅u(x)⋅──({V_{B}}(t, x))   V_AB(t, x)⋅u(x)⋅──({V_{\n",
       "∂                                  ∂x                                  ∂x     \n",
       "──(V_AB(t, x)) = - ───────────────────────────────── - ───────────────────────\n",
       "∂t                          2⋅{V_{B}}(t, x)                     2⋅{V_{A}}(t, x\n",
       "\n",
       "                                                                              \n",
       "A}}(t, x))                                                                    \n",
       "                    _______________   _______________            ⎛            \n",
       "────────── - u(x)⋅╲╱ {V_{A}}(t, x) ⋅╲╱ {V_{B}}(t, x) ⋅Expectation⎜{\\varepsilon\n",
       ")                                                                ⎝            \n",
       "\n",
       "                                                                              \n",
       "                                                                              \n",
       "               ∂                             ⎞          _______________   ____\n",
       "_{A}}(t, x, ω)⋅──({\\varepsilon_{B}}(t, x, ω))⎟ - u(x)⋅╲╱ {V_{A}}(t, x) ⋅╲╱ {V_\n",
       "               ∂x                            ⎠                                \n",
       "\n",
       "                                                                              \n",
       "                                                                              \n",
       "___________            ⎛                           ∂                          \n",
       "{B}}(t, x) ⋅Expectation⎜{\\varepsilon_{B}}(t, x, ω)⋅──({\\varepsilon_{A}}(t, x, \n",
       "                       ⎝                           ∂x                         \n",
       "\n",
       "                                    \n",
       "                                    \n",
       "   ⎞                                \n",
       "ω))⎟ - {V_{A}}(t, x) + {V_{B}}(t, x)\n",
       "   ⎠                                "
      ]
     },
     "metadata": {},
     "output_type": "display_data"
    },
    {
     "data": {
      "text/latex": [
       "$\\displaystyle \\frac{\\partial}{\\partial t} \\operatorname{{s_{A,xx}}}{\\left(t,x \\right)} = \\frac{2 \\operatorname{V_{AB}}{\\left(t,x \\right)} \\operatorname{{s_{A,xx}}}{\\left(t,x \\right)}}{\\operatorname{{V_{A}}}{\\left(t,x \\right)}} - u{\\left(x \\right)} \\frac{\\partial}{\\partial x} \\operatorname{{s_{A,xx}}}{\\left(t,x \\right)} + 2 \\operatorname{{s_{A,xx}}}{\\left(t,x \\right)} \\frac{d}{d x} u{\\left(x \\right)} - \\frac{2 \\sqrt{\\operatorname{{V_{B}}}{\\left(t,x \\right)}} \\operatorname{{s_{A,xx}}}^{2}{\\left(t,x \\right)} {\\mathbb E}\\left(\\frac{\\partial}{\\partial x} \\operatorname{{\\varepsilon_{A}}}{\\left(t,x,\\omega \\right)} \\frac{\\partial}{\\partial x} \\operatorname{{\\varepsilon_{B}}}{\\left(t,x,\\omega \\right)}\\right)}{\\sqrt{\\operatorname{{V_{A}}}{\\left(t,x \\right)}}} - \\frac{\\operatorname{{s_{A,xx}}}^{2}{\\left(t,x \\right)} {\\mathbb E}\\left(\\operatorname{{\\varepsilon_{B}}}{\\left(t,x,\\omega \\right)} \\frac{\\partial}{\\partial x} \\operatorname{{\\varepsilon_{A}}}{\\left(t,x,\\omega \\right)}\\right) \\frac{\\partial}{\\partial x} \\operatorname{{V_{B}}}{\\left(t,x \\right)}}{\\sqrt{\\operatorname{{V_{A}}}{\\left(t,x \\right)}} \\sqrt{\\operatorname{{V_{B}}}{\\left(t,x \\right)}}} + \\frac{\\sqrt{\\operatorname{{V_{B}}}{\\left(t,x \\right)}} \\operatorname{{s_{A,xx}}}^{2}{\\left(t,x \\right)} {\\mathbb E}\\left(\\operatorname{{\\varepsilon_{B}}}{\\left(t,x,\\omega \\right)} \\frac{\\partial}{\\partial x} \\operatorname{{\\varepsilon_{A}}}{\\left(t,x,\\omega \\right)}\\right) \\frac{\\partial}{\\partial x} \\operatorname{{V_{A}}}{\\left(t,x \\right)}}{\\operatorname{{V_{A}}}^{\\frac{3}{2}}{\\left(t,x \\right)}}$"
      ],
      "text/plain": [
       "                                                                              \n",
       "                                                                              \n",
       "∂                      2⋅V_AB(t, x)⋅{s_{A,xx}}(t, x)        ∂                 \n",
       "──({s_{A,xx}}(t, x)) = ───────────────────────────── - u(x)⋅──({s_{A,xx}}(t, x\n",
       "∂t                             {V_{A}}(t, x)                ∂x                \n",
       "                                                                              \n",
       "\n",
       "                                       _______________           2            \n",
       "                                   2⋅╲╱ {V_{B}}(t, x) ⋅{s_{A,xx}} (t, x)⋅Expec\n",
       "                        d                                                     \n",
       ")) + 2⋅{s_{A,xx}}(t, x)⋅──(u(x)) - ───────────────────────────────────────────\n",
       "                        dx                                                    \n",
       "                                                                              \n",
       "\n",
       "      ⎛∂                              ∂                             ⎞         \n",
       "tation⎜──({\\varepsilon_{A}}(t, x, ω))⋅──({\\varepsilon_{B}}(t, x, ω))⎟   {s_{A,\n",
       "      ⎝∂x                             ∂x                            ⎠         \n",
       "───────────────────────────────────────────────────────────────────── - ──────\n",
       "      _______________                                                         \n",
       "    ╲╱ {V_{A}}(t, x)                                                          \n",
       "\n",
       "    2                  ⎛                           ∂                          \n",
       "xx}} (t, x)⋅Expectation⎜{\\varepsilon_{B}}(t, x, ω)⋅──({\\varepsilon_{A}}(t, x, \n",
       "                       ⎝                           ∂x                         \n",
       "──────────────────────────────────────────────────────────────────────────────\n",
       "                               _______________   _______________              \n",
       "                             ╲╱ {V_{A}}(t, x) ⋅╲╱ {V_{B}}(t, x)               \n",
       "\n",
       "   ⎞ ∂                     _______________           2                  ⎛     \n",
       "ω))⎟⋅──({V_{B}}(t, x))   ╲╱ {V_{B}}(t, x) ⋅{s_{A,xx}} (t, x)⋅Expectation⎜{\\var\n",
       "   ⎠ ∂x                                                                 ⎝     \n",
       "────────────────────── + ─────────────────────────────────────────────────────\n",
       "                                                                              \n",
       "                                                                              \n",
       "\n",
       "                      ∂                             ⎞ ∂                \n",
       "epsilon_{B}}(t, x, ω)⋅──({\\varepsilon_{A}}(t, x, ω))⎟⋅──({V_{A}}(t, x))\n",
       "                      ∂x                            ⎠ ∂x               \n",
       "───────────────────────────────────────────────────────────────────────\n",
       "        3/2                                                            \n",
       " {V_{A}}   (t, x)                                                      "
      ]
     },
     "metadata": {},
     "output_type": "display_data"
    },
    {
     "data": {
      "text/latex": [
       "$\\displaystyle \\frac{\\partial}{\\partial t} \\operatorname{{s_{B,xx}}}{\\left(t,x \\right)} = - \\frac{2 \\operatorname{V_{AB}}{\\left(t,x \\right)} \\operatorname{{s_{B,xx}}}{\\left(t,x \\right)}}{\\operatorname{{V_{B}}}{\\left(t,x \\right)}} - u{\\left(x \\right)} \\frac{\\partial}{\\partial x} \\operatorname{{s_{B,xx}}}{\\left(t,x \\right)} + \\frac{2 \\sqrt{\\operatorname{{V_{A}}}{\\left(t,x \\right)}} \\operatorname{{s_{B,xx}}}^{2}{\\left(t,x \\right)} {\\mathbb E}\\left(\\frac{\\partial}{\\partial x} \\operatorname{{\\varepsilon_{A}}}{\\left(t,x,\\omega \\right)} \\frac{\\partial}{\\partial x} \\operatorname{{\\varepsilon_{B}}}{\\left(t,x,\\omega \\right)}\\right)}{\\sqrt{\\operatorname{{V_{B}}}{\\left(t,x \\right)}}} - \\frac{\\sqrt{\\operatorname{{V_{A}}}{\\left(t,x \\right)}} \\operatorname{{s_{B,xx}}}^{2}{\\left(t,x \\right)} {\\mathbb E}\\left(\\operatorname{{\\varepsilon_{A}}}{\\left(t,x,\\omega \\right)} \\frac{\\partial}{\\partial x} \\operatorname{{\\varepsilon_{B}}}{\\left(t,x,\\omega \\right)}\\right) \\frac{\\partial}{\\partial x} \\operatorname{{V_{B}}}{\\left(t,x \\right)}}{\\operatorname{{V_{B}}}^{\\frac{3}{2}}{\\left(t,x \\right)}} + 2 \\operatorname{{s_{B,xx}}}{\\left(t,x \\right)} \\frac{d}{d x} u{\\left(x \\right)} + \\frac{\\operatorname{{s_{B,xx}}}^{2}{\\left(t,x \\right)} {\\mathbb E}\\left(\\operatorname{{\\varepsilon_{A}}}{\\left(t,x,\\omega \\right)} \\frac{\\partial}{\\partial x} \\operatorname{{\\varepsilon_{B}}}{\\left(t,x,\\omega \\right)}\\right) \\frac{\\partial}{\\partial x} \\operatorname{{V_{A}}}{\\left(t,x \\right)}}{\\sqrt{\\operatorname{{V_{A}}}{\\left(t,x \\right)}} \\sqrt{\\operatorname{{V_{B}}}{\\left(t,x \\right)}}}$"
      ],
      "text/plain": [
       "                                                                              \n",
       "                                                                              \n",
       "∂                        2⋅V_AB(t, x)⋅{s_{B,xx}}(t, x)        ∂               \n",
       "──({s_{B,xx}}(t, x)) = - ───────────────────────────── - u(x)⋅──({s_{B,xx}}(t,\n",
       "∂t                               {V_{B}}(t, x)                ∂x              \n",
       "                                                                              \n",
       "\n",
       "           _______________           2                  ⎛∂                    \n",
       "       2⋅╲╱ {V_{A}}(t, x) ⋅{s_{B,xx}} (t, x)⋅Expectation⎜──({\\varepsilon_{A}}(\n",
       "                                                        ⎝∂x                   \n",
       " x)) + ───────────────────────────────────────────────────────────────────────\n",
       "                                                        _______________       \n",
       "                                                      ╲╱ {V_{B}}(t, x)        \n",
       "\n",
       "          ∂                             ⎞     _______________           2     \n",
       "t, x, ω))⋅──({\\varepsilon_{B}}(t, x, ω))⎟   ╲╱ {V_{A}}(t, x) ⋅{s_{B,xx}} (t, x\n",
       "          ∂x                            ⎠                                     \n",
       "───────────────────────────────────────── - ──────────────────────────────────\n",
       "                                                                              \n",
       "                                                                              \n",
       "\n",
       "             ⎛                           ∂                             ⎞ ∂    \n",
       ")⋅Expectation⎜{\\varepsilon_{A}}(t, x, ω)⋅──({\\varepsilon_{B}}(t, x, ω))⎟⋅──({V\n",
       "             ⎝                           ∂x                            ⎠ ∂x   \n",
       "──────────────────────────────────────────────────────────────────────────────\n",
       "                           3/2                                                \n",
       "                    {V_{B}}   (t, x)                                          \n",
       "\n",
       "                                                       2                  ⎛   \n",
       "_{B}}(t, x))                                 {s_{B,xx}} (t, x)⋅Expectation⎜{\\v\n",
       "                                  d                                       ⎝   \n",
       "──────────── + 2⋅{s_{B,xx}}(t, x)⋅──(u(x)) + ─────────────────────────────────\n",
       "                                  dx                                          \n",
       "                                                                              \n",
       "\n",
       "                        ∂                             ⎞ ∂                \n",
       "arepsilon_{A}}(t, x, ω)⋅──({\\varepsilon_{B}}(t, x, ω))⎟⋅──({V_{A}}(t, x))\n",
       "                        ∂x                            ⎠ ∂x               \n",
       "─────────────────────────────────────────────────────────────────────────\n",
       "    _______________   _______________                                    \n",
       "  ╲╱ {V_{A}}(t, x) ⋅╲╱ {V_{B}}(t, x)                                     "
      ]
     },
     "metadata": {},
     "output_type": "display_data"
    }
   ],
   "source": [
    "for equation in pkf_dynamics.in_aspect:    display(equation)"
   ]
  },
  {
   "cell_type": "code",
   "execution_count": 35,
   "metadata": {},
   "outputs": [
    {
     "data": {
      "text/latex": [
       "$\\displaystyle {\\mathbb E}\\left(\\operatorname{{\\varepsilon_{A}}}{\\left(t,x,\\omega \\right)} \\frac{\\partial}{\\partial x} \\operatorname{{\\varepsilon_{B}}}{\\left(t,x,\\omega \\right)}\\right)$"
      ],
      "text/plain": [
       "           ⎛                           ∂                             ⎞\n",
       "Expectation⎜{\\varepsilon_{A}}(t, x, ω)⋅──({\\varepsilon_{B}}(t, x, ω))⎟\n",
       "           ⎝                           ∂x                            ⎠"
      ]
     },
     "metadata": {},
     "output_type": "display_data"
    },
    {
     "data": {
      "text/latex": [
       "$\\displaystyle {\\mathbb E}\\left(\\frac{\\partial}{\\partial x} \\operatorname{{\\varepsilon_{A}}}{\\left(t,x,\\omega \\right)} \\frac{\\partial}{\\partial x} \\operatorname{{\\varepsilon_{B}}}{\\left(t,x,\\omega \\right)}\\right)$"
      ],
      "text/plain": [
       "           ⎛∂                              ∂                             ⎞\n",
       "Expectation⎜──({\\varepsilon_{A}}(t, x, ω))⋅──({\\varepsilon_{B}}(t, x, ω))⎟\n",
       "           ⎝∂x                             ∂x                            ⎠"
      ]
     },
     "metadata": {},
     "output_type": "display_data"
    },
    {
     "data": {
      "text/latex": [
       "$\\displaystyle {\\mathbb E}\\left(\\operatorname{{\\varepsilon_{B}}}{\\left(t,x,\\omega \\right)} \\frac{\\partial}{\\partial x} \\operatorname{{\\varepsilon_{A}}}{\\left(t,x,\\omega \\right)}\\right)$"
      ],
      "text/plain": [
       "           ⎛                           ∂                             ⎞\n",
       "Expectation⎜{\\varepsilon_{B}}(t, x, ω)⋅──({\\varepsilon_{A}}(t, x, ω))⎟\n",
       "           ⎝                           ∂x                            ⎠"
      ]
     },
     "metadata": {},
     "output_type": "display_data"
    }
   ],
   "source": [
    "for term in pkf_dynamics.unclosed_terms:\n",
    "    display(term)"
   ]
  }
 ],
 "metadata": {
  "celltoolbar": "Slideshow",
  "kernelspec": {
   "display_name": "Python 3 (ipykernel)",
   "language": "python",
   "name": "python3"
  },
  "language_info": {
   "codemirror_mode": {
    "name": "ipython",
    "version": 3
   },
   "file_extension": ".py",
   "mimetype": "text/x-python",
   "name": "python",
   "nbconvert_exporter": "python",
   "pygments_lexer": "ipython3",
   "version": "3.9.7"
  },
  "toc": {
   "nav_menu": {
    "height": "244px",
    "width": "212px"
   },
   "number_sections": true,
   "sideBar": true,
   "skip_h1_title": true,
   "toc_cell": false,
   "toc_position": {},
   "toc_section_display": "block",
   "toc_window_display": false
  }
 },
 "nbformat": 4,
 "nbformat_minor": 4
}
