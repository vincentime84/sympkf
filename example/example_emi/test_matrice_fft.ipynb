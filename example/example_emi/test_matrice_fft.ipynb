{
 "cells": [
  {
   "cell_type": "code",
   "execution_count": 11,
   "id": "43c967ae",
   "metadata": {},
   "outputs": [],
   "source": [
    "from sympy import Integer, Function, Derivative, Eq, symbols\n",
    "from sympkf import FDModelBuilder, SymbolicPKF"
   ]
  },
  {
   "cell_type": "code",
   "execution_count": 14,
   "id": "0ac1af35",
   "metadata": {},
   "outputs": [],
   "source": [
    "x, t = symbols('x t')\n",
    "u = Function('u')(t, x)\n",
    "c = Function('c')(t,x)\n",
    "\n",
    "dynamics = [Eq(Derivative(c,t), u*Derivative(c,x)), Eq(Derivative(u,t),0)]\n",
    "pkf_advection = SymbolicPKF(dynamics)"
   ]
  },
  {
   "cell_type": "code",
   "execution_count": 15,
   "id": "41b3f640",
   "metadata": {},
   "outputs": [
    {
     "name": "stdout",
     "output_type": "stream",
     "text": [
      "Warning: constant `omega` has to be set\n"
     ]
    }
   ],
   "source": [
    "\n",
    "\n",
    "g = pkf_advection.fields[u].metric[0] # metric tensor\n",
    "s = pkf_advection.fields[u].aspect[0] # aspect tensor\n",
    "\n",
    "# loc. Gaussian closure of P18 in metric form, then in aspect form\n",
    "P18_closure = Integer(3)*g**Integer(2)-Integer(2)*Derivative(g,x,2)\n",
    "P18_closure = P18_closure.subs(g,1/s).doit().expand()\n",
    "\n",
    "# Introduction of the closure as a dictionnary\n",
    "unclosed_term = list(pkf_advection.unclosed_terms)[0]\n",
    "pkf_advection.set_closure({unclosed_term:P18_closure})\n",
    "\n",
    "# Build a numerical code at runtime\n",
    "exec(FDModelBuilder(pkf_advection.in_aspect, class_name='ClosedPKFAdvection').code)\n",
    "closed_pkf_advection = ClosedPKFAdvection(shape=(241,))"
   ]
  },
  {
   "cell_type": "code",
   "execution_count": 16,
   "id": "678d78c9",
   "metadata": {},
   "outputs": [],
   "source": [
    "import matplotlib.pyplot as plt"
   ]
  },
  {
   "cell_type": "code",
   "execution_count": 17,
   "id": "4ebc520b",
   "metadata": {},
   "outputs": [],
   "source": [
    "def plot_results(data, label=None, labelx=True, title=None, save_file=None, normalisation=None, \n",
    "                 selected_times=None,style=None, name=None, alpha=1., bolds=[0., 1.]):\n",
    "    \n",
    "    normalisation = 1. if normalisation is None else normalisation\n",
    "                 \n",
    "    selected_times = [time for time in data] if selected_times is None else selected_times\n",
    "                 \n",
    "    style = 'k' if style is None else style\n",
    "                 \n",
    "    for time in selected_times:\n",
    "        lalpha = alpha if time in bolds else 0.2\n",
    "        lname = name if time==selected_times[-1] else None\n",
    "        plt.plot(domain.x[0],data[time]/normalisation, style, alpha = lalpha, label=lname)\n",
    "                 \n",
    "    if labelx:\n",
    "        plt.xlabel('$x/D$', fontsize=15)\n",
    "    if label:\n",
    "        plt.ylabel(label, fontsize=15)\n",
    "    if title:\n",
    "        plt.title(title)\n",
    "    if save_file:\n",
    "        plt.savefig(save_file)"
   ]
  },
  {
   "cell_type": "code",
   "execution_count": 18,
   "id": "f154aa55",
   "metadata": {},
   "outputs": [],
   "source": [
    "domain = closed_pkf_advection"
   ]
  },
  {
   "cell_type": "code",
   "execution_count": 184,
   "id": "e6332ef6",
   "metadata": {},
   "outputs": [],
   "source": [
    "def matrix_correlation(lhc, lhu):\n",
    "    gauss_c = lambda dx : np.exp(-0.5*dx**2/lhc**2)\n",
    "    gauss_u = lambda dx : np.exp(-0.5*dx**2/lhu**2)\n",
    "    gauss_cu = lambda dx : np.exp(-0.5*dx**2/(lhu*lhc))\n",
    "    \n",
    "    g = []\n",
    "    \n",
    "    gc = gauss_c(domain.x[0]-domain.x[0][domain.shape[0]//2])\n",
    "    gu = gauss_u(domain.x[0]-domain.x[0][domain.shape[0]//2])\n",
    "    gcu = gauss_cu(domain.x[0]-domain.x[0][domain.shape[0]//2])\n",
    "    \n",
    "    dx = domain.x[0][1]\n",
    "    n = domain.shape[0]\n",
    "    \n",
    "    correlation = np.zeros((2*n,2*n))\n",
    "    \n",
    "    for i in range(n):\n",
    "        correlation[i][0:domain.shape[0]] = np.roll(gc, domain.shape[0]//2-i)\n",
    "        correlation[i][domain.shape[0]:] = np.roll(gcu, domain.shape[0]//2-i)\n",
    "    for i in range(n,2*n):\n",
    "        correlation[i][0:domain.shape[0]] = np.roll(gcu, domain.shape[0]//2-i)\n",
    "        correlation[i][domain.shape[0]:] = np.roll(gu, domain.shape[0]//2-i)\n",
    "    return correlation"
   ]
  },
  {
   "cell_type": "code",
   "execution_count": 190,
   "id": "9e810a31",
   "metadata": {},
   "outputs": [],
   "source": [
    "lh = 0.2\n",
    "lh2 = 0.04\n",
    "\n",
    "Pf = matrix_correlation(lh,lh2)"
   ]
  },
  {
   "cell_type": "code",
   "execution_count": 191,
   "id": "3c43482f",
   "metadata": {},
   "outputs": [
    {
     "data": {
      "text/plain": [
       "[<matplotlib.lines.Line2D at 0x18824c33280>]"
      ]
     },
     "execution_count": 191,
     "metadata": {},
     "output_type": "execute_result"
    },
    {
     "data": {
      "image/png": "[encoded data removed]",
      "text/plain": [
       "<Figure size 432x288 with 1 Axes>"
      ]
     },
     "metadata": {
      "needs_background": "light"
     },
     "output_type": "display_data"
    }
   ],
   "source": [
    "d = np.concatenate((domain.x[0], 1+ domain.x[0]))\n",
    "d\n",
    "plt.plot(d, Pf[481])"
   ]
  }
 ],
 "metadata": {
  "kernelspec": {
   "display_name": "Python 3 (ipykernel)",
   "language": "python",
   "name": "python3"
  },
  "language_info": {
   "codemirror_mode": {
    "name": "ipython",
    "version": 3
   },
   "file_extension": ".py",
   "mimetype": "text/x-python",
   "name": "python",
   "nbconvert_exporter": "python",
   "pygments_lexer": "ipython3",
   "version": "3.9.7"
  }
 },
 "nbformat": 4,
 "nbformat_minor": 5
}
