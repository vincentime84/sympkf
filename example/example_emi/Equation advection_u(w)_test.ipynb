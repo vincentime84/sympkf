{
 "cells": [
  {
   "cell_type": "code",
   "execution_count": 2,
   "id": "ce1e5b2f",
   "metadata": {},
   "outputs": [],
   "source": [
    "import sympy\n",
    "sympy.init_printing() "
   ]
  },
  {
   "cell_type": "code",
   "execution_count": 3,
   "id": "7ad11209",
   "metadata": {},
   "outputs": [],
   "source": [
    "from sympy import Function, Derivative, Eq, symbols\n",
    "from sympkf import SymbolicPKF, t, PDESystem, Expectation"
   ]
  },
  {
   "cell_type": "code",
   "execution_count": 4,
   "id": "e7b1da93",
   "metadata": {},
   "outputs": [],
   "source": [
    "x = symbols('x')\n",
    "u = Function('u')(t, x)\n",
    "c = Function('c')(t,x)"
   ]
  },
  {
   "cell_type": "markdown",
   "id": "05e64351",
   "metadata": {},
   "source": [
    "# Equation d'avection "
   ]
  },
  {
   "cell_type": "code",
   "execution_count": 5,
   "id": "8c9f013c",
   "metadata": {
    "scrolled": true
   },
   "outputs": [
    {
     "name": "stderr",
     "output_type": "stream",
     "text": [
      "C:\\Users\\vince\\anaconda3\\lib\\site-packages\\IPython\\lib\\latextools.py:126: MatplotlibDeprecationWarning: \n",
      "The to_png function was deprecated in Matplotlib 3.4 and will be removed two minor releases later. Use mathtext.math_to_image instead.\n",
      "  mt.to_png(f, s, fontsize=12, dpi=dpi, color=color)\n",
      "C:\\Users\\vince\\anaconda3\\lib\\site-packages\\IPython\\lib\\latextools.py:126: MatplotlibDeprecationWarning: \n",
      "The to_rgba function was deprecated in Matplotlib 3.4 and will be removed two minor releases later. Use mathtext.math_to_image instead.\n",
      "  mt.to_png(f, s, fontsize=12, dpi=dpi, color=color)\n",
      "C:\\Users\\vince\\anaconda3\\lib\\site-packages\\IPython\\lib\\latextools.py:126: MatplotlibDeprecationWarning: \n",
      "The to_mask function was deprecated in Matplotlib 3.4 and will be removed two minor releases later. Use mathtext.math_to_image instead.\n",
      "  mt.to_png(f, s, fontsize=12, dpi=dpi, color=color)\n",
      "C:\\Users\\vince\\anaconda3\\lib\\site-packages\\IPython\\lib\\latextools.py:126: MatplotlibDeprecationWarning: \n",
      "The MathtextBackendBitmap class was deprecated in Matplotlib 3.4 and will be removed two minor releases later. Use mathtext.math_to_image instead.\n",
      "  mt.to_png(f, s, fontsize=12, dpi=dpi, color=color)\n"
     ]
    },
    {
     "data": {
      "image/png": "[encoded data removed]",
      "text/latex": [
       "$\\displaystyle \\left[ \\frac{\\partial}{\\partial t} c{\\left(t,x \\right)} = u{\\left(t,x \\right)} \\frac{\\partial}{\\partial x} c{\\left(t,x \\right)}, \\  \\frac{\\partial}{\\partial t} u{\\left(t,x \\right)} = 0\\right]$"
      ],
      "text/plain": [
       "⎡∂                     ∂            ∂              ⎤\n",
       "⎢──(c(t, x)) = u(t, x)⋅──(c(t, x)), ──(u(t, x)) = 0⎥\n",
       "⎣∂t                    ∂x           ∂t             ⎦"
      ]
     },
     "metadata": {},
     "output_type": "display_data"
    }
   ],
   "source": [
    "dynamics = [Eq(Derivative(c,t), u*Derivative(c,x)), Eq(Derivative(u,t),0)]\n",
    "display(dynamics)"
   ]
  },
  {
   "cell_type": "code",
   "execution_count": 6,
   "id": "ec58638b",
   "metadata": {},
   "outputs": [
    {
     "data": {
      "text/plain": [
       "PDE System :\n",
       "        prognostic functions : c(t, x), u(t, x)\n",
       "        constant functions   : \n",
       "        exogeneous functions : \n",
       "        constants            : \n",
       "        "
      ]
     },
     "execution_count": 6,
     "metadata": {},
     "output_type": "execute_result"
    }
   ],
   "source": [
    "dynamics = PDESystem(dynamics)\n",
    "dynamics"
   ]
  },
  {
   "cell_type": "code",
   "execution_count": 7,
   "id": "c0b2fbc7",
   "metadata": {},
   "outputs": [],
   "source": [
    "pkf_advection = SymbolicPKF(dynamics)"
   ]
  },
  {
   "cell_type": "code",
   "execution_count": 8,
   "id": "d70fcd8c",
   "metadata": {},
   "outputs": [
    {
     "data": {
      "text/latex": [
       "$\\displaystyle \\frac{\\partial}{\\partial t} c{\\left(t,x \\right)} = \\frac{\\operatorname{V_{cu}}{\\left(t,x \\right)} \\frac{\\partial}{\\partial x} \\operatorname{{V_{c}}}{\\left(t,x \\right)}}{2 \\operatorname{{V_{c}}}{\\left(t,x \\right)}} + u{\\left(t,x \\right)} \\frac{\\partial}{\\partial x} c{\\left(t,x \\right)} + \\sqrt{\\operatorname{{V_{c}}}{\\left(t,x \\right)}} \\sqrt{\\operatorname{{V_{u}}}{\\left(t,x \\right)}} {\\mathbb E}\\left(\\operatorname{{\\varepsilon_{u}}}{\\left(t,x,\\omega \\right)} \\frac{\\partial}{\\partial x} \\operatorname{{\\varepsilon_{c}}}{\\left(t,x,\\omega \\right)}\\right)$"
      ],
      "text/plain": [
       "                         ∂                                                    \n",
       "              V_cu(t, x)⋅──({V_{c}}(t, x))                                    \n",
       "∂                        ∂x                          ∂               _________\n",
       "──(c(t, x)) = ──────────────────────────── + u(t, x)⋅──(c(t, x)) + ╲╱ {V_{c}}(\n",
       "∂t                  2⋅{V_{c}}(t, x)                  ∂x                       \n",
       "\n",
       "                                                                              \n",
       "                                                                              \n",
       "______   _______________            ⎛                           ∂             \n",
       "t, x) ⋅╲╱ {V_{u}}(t, x) ⋅Expectation⎜{\\varepsilon_{u}}(t, x, ω)⋅──({\\varepsilo\n",
       "                                    ⎝                           ∂x            \n",
       "\n",
       "                 \n",
       "                 \n",
       "                ⎞\n",
       "n_{c}}(t, x, ω))⎟\n",
       "                ⎠"
      ]
     },
     "metadata": {},
     "output_type": "display_data"
    },
    {
     "data": {
      "image/png": "[encoded data removed]",
      "text/latex": [
       "$\\displaystyle \\frac{\\partial}{\\partial t} u{\\left(t,x \\right)} = 0$"
      ],
      "text/plain": [
       "∂              \n",
       "──(u(t, x)) = 0\n",
       "∂t             "
      ]
     },
     "metadata": {},
     "output_type": "display_data"
    },
    {
     "data": {
      "image/png": "[encoded data removed]",
      "text/latex": [
       "$\\displaystyle \\frac{\\partial}{\\partial t} \\operatorname{{V_{c}}}{\\left(t,x \\right)} = 2 \\operatorname{V_{cu}}{\\left(t,x \\right)} \\frac{\\partial}{\\partial x} c{\\left(t,x \\right)} + u{\\left(t,x \\right)} \\frac{\\partial}{\\partial x} \\operatorname{{V_{c}}}{\\left(t,x \\right)}$"
      ],
      "text/plain": [
       "∂                                ∂                     ∂                \n",
       "──({V_{c}}(t, x)) = 2⋅V_cu(t, x)⋅──(c(t, x)) + u(t, x)⋅──({V_{c}}(t, x))\n",
       "∂t                               ∂x                    ∂x               "
      ]
     },
     "metadata": {},
     "output_type": "display_data"
    },
    {
     "data": {
      "image/png": "[encoded data removed]",
      "text/latex": [
       "$\\displaystyle \\frac{\\partial}{\\partial t} \\operatorname{{V_{u}}}{\\left(t,x \\right)} = 0$"
      ],
      "text/plain": [
       "∂                    \n",
       "──({V_{u}}(t, x)) = 0\n",
       "∂t                   "
      ]
     },
     "metadata": {},
     "output_type": "display_data"
    },
    {
     "data": {
      "text/latex": [
       "$\\displaystyle \\frac{\\partial}{\\partial t} \\operatorname{V_{cu}}{\\left(t,x \\right)} = \\frac{\\operatorname{V_{cu}}{\\left(t,x \\right)} u{\\left(t,x \\right)} \\frac{\\partial}{\\partial x} \\operatorname{{V_{c}}}{\\left(t,x \\right)}}{2 \\operatorname{{V_{c}}}{\\left(t,x \\right)}} + u{\\left(t,x \\right)} \\sqrt{\\operatorname{{V_{c}}}{\\left(t,x \\right)}} \\sqrt{\\operatorname{{V_{u}}}{\\left(t,x \\right)}} {\\mathbb E}\\left(\\operatorname{{\\varepsilon_{u}}}{\\left(t,x,\\omega \\right)} \\frac{\\partial}{\\partial x} \\operatorname{{\\varepsilon_{c}}}{\\left(t,x,\\omega \\right)}\\right) + \\operatorname{{V_{u}}}{\\left(t,x \\right)} \\frac{\\partial}{\\partial x} c{\\left(t,x \\right)}$"
      ],
      "text/plain": [
       "                                    ∂                                         \n",
       "                 V_cu(t, x)⋅u(t, x)⋅──({V_{c}}(t, x))                         \n",
       "∂                                   ∂x                            ____________\n",
       "──(V_cu(t, x)) = ──────────────────────────────────── + u(t, x)⋅╲╱ {V_{c}}(t, \n",
       "∂t                         2⋅{V_{c}}(t, x)                                    \n",
       "\n",
       "                                                                              \n",
       "                                                                              \n",
       "___   _______________            ⎛                           ∂                \n",
       "x) ⋅╲╱ {V_{u}}(t, x) ⋅Expectation⎜{\\varepsilon_{u}}(t, x, ω)⋅──({\\varepsilon_{\n",
       "                                 ⎝                           ∂x               \n",
       "\n",
       "                                          \n",
       "                                          \n",
       "             ⎞                 ∂          \n",
       "c}}(t, x, ω))⎟ + {V_{u}}(t, x)⋅──(c(t, x))\n",
       "             ⎠                 ∂x         "
      ]
     },
     "metadata": {},
     "output_type": "display_data"
    },
    {
     "data": {
      "text/latex": [
       "$\\displaystyle \\frac{\\partial}{\\partial t} \\operatorname{{g_{c,xx}}}{\\left(t,x \\right)} = - \\frac{2 \\operatorname{V_{cu}}{\\left(t,x \\right)} \\operatorname{{g_{c,xx}}}{\\left(t,x \\right)} \\frac{\\partial}{\\partial x} c{\\left(t,x \\right)}}{\\operatorname{{V_{c}}}{\\left(t,x \\right)}} + u{\\left(t,x \\right)} \\frac{\\partial}{\\partial x} \\operatorname{{g_{c,xx}}}{\\left(t,x \\right)} + 2 \\operatorname{{g_{c,xx}}}{\\left(t,x \\right)} \\frac{\\partial}{\\partial x} u{\\left(t,x \\right)} + \\frac{2 \\sqrt{\\operatorname{{V_{u}}}{\\left(t,x \\right)}} {\\mathbb E}\\left(\\operatorname{{\\varepsilon_{u}}}{\\left(t,x,\\omega \\right)} \\frac{\\partial}{\\partial x} \\operatorname{{\\varepsilon_{c}}}{\\left(t,x,\\omega \\right)}\\right) \\frac{\\partial^{2}}{\\partial x^{2}} c{\\left(t,x \\right)}}{\\sqrt{\\operatorname{{V_{c}}}{\\left(t,x \\right)}}} + \\frac{2 \\sqrt{\\operatorname{{V_{u}}}{\\left(t,x \\right)}} {\\mathbb E}\\left(\\frac{\\partial}{\\partial x} \\operatorname{{\\varepsilon_{c}}}{\\left(t,x,\\omega \\right)} \\frac{\\partial}{\\partial x} \\operatorname{{\\varepsilon_{u}}}{\\left(t,x,\\omega \\right)}\\right) \\frac{\\partial}{\\partial x} c{\\left(t,x \\right)}}{\\sqrt{\\operatorname{{V_{c}}}{\\left(t,x \\right)}}} + \\frac{{\\mathbb E}\\left(\\operatorname{{\\varepsilon_{u}}}{\\left(t,x,\\omega \\right)} \\frac{\\partial}{\\partial x} \\operatorname{{\\varepsilon_{c}}}{\\left(t,x,\\omega \\right)}\\right) \\frac{\\partial}{\\partial x} c{\\left(t,x \\right)} \\frac{\\partial}{\\partial x} \\operatorname{{V_{u}}}{\\left(t,x \\right)}}{\\sqrt{\\operatorname{{V_{c}}}{\\left(t,x \\right)}} \\sqrt{\\operatorname{{V_{u}}}{\\left(t,x \\right)}}} - \\frac{\\sqrt{\\operatorname{{V_{u}}}{\\left(t,x \\right)}} {\\mathbb E}\\left(\\operatorname{{\\varepsilon_{u}}}{\\left(t,x,\\omega \\right)} \\frac{\\partial}{\\partial x} \\operatorname{{\\varepsilon_{c}}}{\\left(t,x,\\omega \\right)}\\right) \\frac{\\partial}{\\partial x} c{\\left(t,x \\right)} \\frac{\\partial}{\\partial x} \\operatorname{{V_{c}}}{\\left(t,x \\right)}}{\\operatorname{{V_{c}}}^{\\frac{3}{2}}{\\left(t,x \\right)}}$"
      ],
      "text/plain": [
       "                                                                              \n",
       "                                                                              \n",
       "                                                       ∂                      \n",
       "                         2⋅V_cu(t, x)⋅{g_{c,xx}}(t, x)⋅──(c(t, x))            \n",
       "∂                                                      ∂x                    ∂\n",
       "──({g_{c,xx}}(t, x)) = - ───────────────────────────────────────── + u(t, x)⋅─\n",
       "∂t                                     {V_{c}}(t, x)                         ∂\n",
       "                                                                              \n",
       "\n",
       "                                                                              \n",
       "                                                           _______________    \n",
       "                                                       2⋅╲╱ {V_{u}}(t, x) ⋅Exp\n",
       "                                                                              \n",
       "                                         ∂                                    \n",
       "─({g_{c,xx}}(t, x)) + 2⋅{g_{c,xx}}(t, x)⋅──(u(t, x)) + ───────────────────────\n",
       "x                                        ∂x                                   \n",
       "                                                                              \n",
       "\n",
       "                                                                      2       \n",
       "        ⎛                           ∂                             ⎞  ∂        \n",
       "ectation⎜{\\varepsilon_{u}}(t, x, ω)⋅──({\\varepsilon_{c}}(t, x, ω))⎟⋅───(c(t, x\n",
       "        ⎝                           ∂x                            ⎠   2       \n",
       "                                                                    ∂x        \n",
       "──────────────────────────────────────────────────────────────────────────────\n",
       "                      _______________                                         \n",
       "                    ╲╱ {V_{c}}(t, x)                                          \n",
       "\n",
       "                                                                              \n",
       "                                                                              \n",
       "))       _______________            ⎛∂                              ∂         \n",
       "     2⋅╲╱ {V_{u}}(t, x) ⋅Expectation⎜──({\\varepsilon_{c}}(t, x, ω))⋅──({\\varep\n",
       "                                    ⎝∂x                             ∂x        \n",
       "── + ─────────────────────────────────────────────────────────────────────────\n",
       "                                                   _______________            \n",
       "                                                 ╲╱ {V_{c}}(t, x)             \n",
       "\n",
       "                                                                              \n",
       "                                                                              \n",
       "                    ⎞ ∂                        ⎛                           ∂  \n",
       "silon_{u}}(t, x, ω))⎟⋅──(c(t, x))   Expectation⎜{\\varepsilon_{u}}(t, x, ω)⋅──(\n",
       "                    ⎠ ∂x                       ⎝                           ∂x \n",
       "───────────────────────────────── + ──────────────────────────────────────────\n",
       "                                                                      ________\n",
       "                                                                    ╲╱ {V_{c}}\n",
       "\n",
       "                                                                              \n",
       "                                                                              \n",
       "                           ⎞ ∂           ∂                     _______________\n",
       "{\\varepsilon_{c}}(t, x, ω))⎟⋅──(c(t, x))⋅──({V_{u}}(t, x))   ╲╱ {V_{u}}(t, x) \n",
       "                           ⎠ ∂x          ∂x                                   \n",
       "────────────────────────────────────────────────────────── - ─────────────────\n",
       "_______   _______________                                                     \n",
       "(t, x) ⋅╲╱ {V_{u}}(t, x)                                                      \n",
       "\n",
       "                                                                              \n",
       "                                                                              \n",
       "            ⎛                           ∂                             ⎞ ∂     \n",
       "⋅Expectation⎜{\\varepsilon_{u}}(t, x, ω)⋅──({\\varepsilon_{c}}(t, x, ω))⎟⋅──(c(t\n",
       "            ⎝                           ∂x                            ⎠ ∂x    \n",
       "──────────────────────────────────────────────────────────────────────────────\n",
       "                                         3/2                                  \n",
       "                                  {V_{c}}   (t, x)                            \n",
       "\n",
       "                       \n",
       "                       \n",
       "      ∂                \n",
       ", x))⋅──({V_{c}}(t, x))\n",
       "      ∂x               \n",
       "───────────────────────\n",
       "                       \n",
       "                       "
      ]
     },
     "metadata": {},
     "output_type": "display_data"
    },
    {
     "data": {
      "image/png": "[encoded data removed]",
      "text/latex": [
       "$\\displaystyle \\frac{\\partial}{\\partial t} \\operatorname{{g_{u,xx}}}{\\left(t,x \\right)} = 0$"
      ],
      "text/plain": [
       "∂                       \n",
       "──({g_{u,xx}}(t, x)) = 0\n",
       "∂t                      "
      ]
     },
     "metadata": {},
     "output_type": "display_data"
    }
   ],
   "source": [
    "for equation in pkf_advection.in_metric:\n",
    "    display(equation)"
   ]
  },
  {
   "cell_type": "code",
   "execution_count": 9,
   "id": "898f1a5c",
   "metadata": {},
   "outputs": [
    {
     "data": {
      "text/latex": [
       "$\\displaystyle \\left\\{ {\\mathbb E}\\left(\\left(\\frac{\\partial}{\\partial x} \\operatorname{{\\varepsilon_{c}}}{\\left(t,x,\\omega \\right)}\\right)^{2}\\right) : \\operatorname{{g_{c,xx}}}{\\left(t,x \\right)}\\right\\}$"
      ],
      "text/plain": [
       "⎧           ⎛                                2⎞                  ⎫\n",
       "⎪           ⎜⎛∂                             ⎞ ⎟                  ⎪\n",
       "⎨Expectation⎜⎜──({\\varepsilon_{c}}(t, x, ω))⎟ ⎟: {g_{c,xx}}(t, x)⎬\n",
       "⎪           ⎝⎝∂x                            ⎠ ⎠                  ⎪\n",
       "⎩                                                                ⎭"
      ]
     },
     "metadata": {},
     "output_type": "display_data"
    },
    {
     "data": {
      "text/latex": [
       "$\\displaystyle \\left\\{ {\\mathbb E}\\left(\\frac{\\partial}{\\partial x} \\operatorname{{\\varepsilon_{c}}}{\\left(t,x,\\omega \\right)} \\frac{\\partial^{2}}{\\partial x^{2}} \\operatorname{{\\varepsilon_{c}}}{\\left(t,x,\\omega \\right)}\\right) : \\frac{\\frac{\\partial}{\\partial x} \\operatorname{{g_{c,xx}}}{\\left(t,x \\right)}}{2}\\right\\}$"
      ],
      "text/plain": [
       "⎧                                                                             \n",
       "⎪           ⎛                                 2                            ⎞  \n",
       "⎪           ⎜∂                               ∂                             ⎟  \n",
       "⎨Expectation⎜──({\\varepsilon_{c}}(t, x, ω))⋅───({\\varepsilon_{c}}(t, x, ω))⎟: \n",
       "⎪           ⎜∂x                               2                            ⎟  \n",
       "⎪           ⎝                               ∂x                             ⎠  \n",
       "⎩                                                                             \n",
       "\n",
       "∂                   ⎫\n",
       "──({g_{c,xx}}(t, x))⎪\n",
       "∂x                  ⎪\n",
       "────────────────────⎬\n",
       "         2          ⎪\n",
       "                    ⎪\n",
       "                    ⎭"
      ]
     },
     "metadata": {},
     "output_type": "display_data"
    }
   ],
   "source": [
    "for key, value in pkf_advection.subs_tree.items():\n",
    "    display({key:value})"
   ]
  },
  {
   "cell_type": "code",
   "execution_count": 10,
   "id": "a449f1df",
   "metadata": {},
   "outputs": [
    {
     "data": {
      "text/latex": [
       "$\\displaystyle {\\mathbb E}\\left(\\frac{\\partial}{\\partial x} \\operatorname{{\\varepsilon_{c}}}{\\left(t,x,\\omega \\right)} \\frac{\\partial}{\\partial x} \\operatorname{{\\varepsilon_{u}}}{\\left(t,x,\\omega \\right)}\\right)$"
      ],
      "text/plain": [
       "           ⎛∂                              ∂                             ⎞\n",
       "Expectation⎜──({\\varepsilon_{c}}(t, x, ω))⋅──({\\varepsilon_{u}}(t, x, ω))⎟\n",
       "           ⎝∂x                             ∂x                            ⎠"
      ]
     },
     "metadata": {},
     "output_type": "display_data"
    },
    {
     "data": {
      "text/latex": [
       "$\\displaystyle {\\mathbb E}\\left(\\operatorname{{\\varepsilon_{u}}}{\\left(t,x,\\omega \\right)} \\frac{\\partial}{\\partial x} \\operatorname{{\\varepsilon_{c}}}{\\left(t,x,\\omega \\right)}\\right)$"
      ],
      "text/plain": [
       "           ⎛                           ∂                             ⎞\n",
       "Expectation⎜{\\varepsilon_{u}}(t, x, ω)⋅──({\\varepsilon_{c}}(t, x, ω))⎟\n",
       "           ⎝                           ∂x                            ⎠"
      ]
     },
     "metadata": {},
     "output_type": "display_data"
    }
   ],
   "source": [
    "for term in pkf_advection.unclosed_terms:\n",
    "    display(term)"
   ]
  },
  {
   "cell_type": "code",
   "execution_count": 11,
   "id": "dc6c89e3",
   "metadata": {},
   "outputs": [
    {
     "data": {
      "text/latex": [
       "$\\displaystyle \\frac{\\partial}{\\partial t} \\operatorname{{\\varepsilon_{c}}}{\\left(t,x,\\omega \\right)} = - \\frac{\\operatorname{V_{cu}}{\\left(t,x \\right)} \\operatorname{{\\varepsilon_{c}}}{\\left(t,x,\\omega \\right)} \\frac{\\partial}{\\partial x} {\\mathbb E}\\left(c{\\left(t,x,\\omega \\right)}\\right)}{\\operatorname{{V_{c}}}{\\left(t,x \\right)}} + {\\mathbb E}\\left(u{\\left(t,x,\\omega \\right)}\\right) \\frac{\\partial}{\\partial x} \\operatorname{{\\varepsilon_{c}}}{\\left(t,x,\\omega \\right)} + \\frac{\\sqrt{\\operatorname{{V_{u}}}{\\left(t,x \\right)}} \\operatorname{{\\varepsilon_{u}}}{\\left(t,x,\\omega \\right)} \\frac{\\partial}{\\partial x} {\\mathbb E}\\left(c{\\left(t,x,\\omega \\right)}\\right)}{\\sqrt{\\operatorname{{V_{c}}}{\\left(t,x \\right)}}}$"
      ],
      "text/plain": [
       "                                                                         ∂    \n",
       "                                   V_cu(t, x)⋅{\\varepsilon_{c}}(t, x, ω)⋅──(Ex\n",
       "∂                                                                        ∂x   \n",
       "──({\\varepsilon_{c}}(t, x, ω)) = - ───────────────────────────────────────────\n",
       "∂t                                                           {V_{c}}(t, x)    \n",
       "                                                                              \n",
       "\n",
       "                                                                              \n",
       "pectation(c(t, x, ω)))                                                        \n",
       "                                                 ∂                            \n",
       "────────────────────── + Expectation(u(t, x, ω))⋅──({\\varepsilon_{c}}(t, x, ω)\n",
       "                                                 ∂x                           \n",
       "                                                                              \n",
       "\n",
       "      _______________                            ∂                          \n",
       "    ╲╱ {V_{u}}(t, x) ⋅{\\varepsilon_{u}}(t, x, ω)⋅──(Expectation(c(t, x, ω)))\n",
       "                                                 ∂x                         \n",
       ") + ────────────────────────────────────────────────────────────────────────\n",
       "                                 _______________                            \n",
       "                               ╲╱ {V_{c}}(t, x)                             "
      ]
     },
     "metadata": {},
     "output_type": "display_data"
    },
    {
     "data": {
      "image/png": "[encoded data removed]",
      "text/latex": [
       "$\\displaystyle \\frac{\\partial}{\\partial t} \\operatorname{{\\varepsilon_{u}}}{\\left(t,x,\\omega \\right)} = 0$"
      ],
      "text/plain": [
       "∂                                 \n",
       "──({\\varepsilon_{u}}(t, x, ω)) = 0\n",
       "∂t                                "
      ]
     },
     "metadata": {},
     "output_type": "display_data"
    }
   ],
   "source": [
    "for equation in pkf_advection._epsilon_system:\n",
    "    display(equation)"
   ]
  },
  {
   "cell_type": "markdown",
   "id": "6e84f47f",
   "metadata": {},
   "source": [
    "# Terme de Fermeture"
   ]
  },
  {
   "cell_type": "markdown",
   "id": "28b7423f",
   "metadata": {},
   "source": [
    "### Definition des variables et fonctions"
   ]
  },
  {
   "cell_type": "code",
   "execution_count": 72,
   "id": "5ec6d57a",
   "metadata": {},
   "outputs": [],
   "source": [
    "x,t,w = symbols(\"x t w\")"
   ]
  },
  {
   "cell_type": "code",
   "execution_count": 54,
   "id": "fae1fba1",
   "metadata": {},
   "outputs": [],
   "source": [
    "Vc = Function(\"V_c\")(x,t)\n",
    "Vu = Function(\"V_u\")(x,t)\n",
    "Vcu = Function(\"V_cu\")(x,t)\n",
    "gc = Function(\"g_c\")(x,t)\n",
    "gu = Function(\"g_u\")(x,t)\n",
    "epsc = Function(\"epsilon_c\")(x,t,w)\n",
    "epsu = Function(\"epsilon_u\")(x,t,w)\n",
    "E = Function(\"E\")"
   ]
  },
  {
   "cell_type": "code",
   "execution_count": 55,
   "id": "d41fbd30",
   "metadata": {},
   "outputs": [
    {
     "data": {
      "image/png": "[encoded data removed]",
      "text/latex": [
       "$\\displaystyle \\operatorname{g_{cu}}{\\left(x,t \\right)} = E{\\left(\\frac{\\partial}{\\partial x} \\epsilon_{c}{\\left(x,t,w \\right)} \\frac{\\partial}{\\partial x} \\epsilon_{u}{\\left(x,t,w \\right)} \\right)}$"
      ],
      "text/plain": [
       "              ⎛∂                ∂              ⎞\n",
       "g_cu(x, t) = E⎜──(ε_c(x, t, w))⋅──(εᵤ(x, t, w))⎟\n",
       "              ⎝∂x               ∂x             ⎠"
      ]
     },
     "execution_count": 55,
     "metadata": {},
     "output_type": "execute_result"
    }
   ],
   "source": [
    "gcu = Function(\"g_cu\")(x,t)\n",
    "def_gcu = Eq(gcu, E(Derivative(epsc, x)*Derivative(epsu, x)))\n",
    "def_gcu"
   ]
  },
  {
   "cell_type": "markdown",
   "id": "d5f3da65",
   "metadata": {},
   "source": [
    "### Relation dérivée spatiale"
   ]
  },
  {
   "cell_type": "code",
   "execution_count": 101,
   "id": "4bf5ebc9",
   "metadata": {},
   "outputs": [
    {
     "data": {
      "image/png": "[encoded data removed]",
      "text/latex": [
       "$\\displaystyle \\frac{\\partial}{\\partial x} E{\\left(\\epsilon_{c}{\\left(x,t,w \\right)} \\epsilon_{u}{\\left(x,t,w \\right)} \\right)} = E{\\left(\\epsilon_{c}{\\left(x,t,w \\right)} \\frac{\\partial}{\\partial x} \\epsilon_{u}{\\left(x,t,w \\right)} \\right)} + E{\\left(\\epsilon_{u}{\\left(x,t,w \\right)} \\frac{\\partial}{\\partial x} \\epsilon_{c}{\\left(x,t,w \\right)} \\right)}$"
      ],
      "text/plain": [
       "∂                                  ⎛             ∂              ⎞    ⎛        \n",
       "──(E(ε_c(x, t, w)⋅εᵤ(x, t, w))) = E⎜ε_c(x, t, w)⋅──(εᵤ(x, t, w))⎟ + E⎜εᵤ(x, t,\n",
       "∂x                                 ⎝             ∂x             ⎠    ⎝        \n",
       "\n",
       "    ∂               ⎞\n",
       " w)⋅──(ε_c(x, t, w))⎟\n",
       "    ∂x              ⎠"
      ]
     },
     "metadata": {},
     "output_type": "display_data"
    },
    {
     "data": {
      "image/png": "[encoded data removed]",
      "text/latex": [
       "$\\displaystyle \\frac{\\partial^{2}}{\\partial x^{2}} E{\\left(\\epsilon_{c}{\\left(x,t,w \\right)} \\epsilon_{u}{\\left(x,t,w \\right)} \\right)} = E{\\left(\\epsilon_{c}{\\left(x,t,w \\right)} \\frac{\\partial^{2}}{\\partial x^{2}} \\epsilon_{u}{\\left(x,t,w \\right)} \\right)} + E{\\left(\\epsilon_{u}{\\left(x,t,w \\right)} \\frac{\\partial^{2}}{\\partial x^{2}} \\epsilon_{c}{\\left(x,t,w \\right)} \\right)} + 2 \\operatorname{g_{cu}}{\\left(x,t \\right)}$"
      ],
      "text/plain": [
       "  2                                 ⎛               2             ⎞    ⎛      \n",
       " ∂                                  ⎜              ∂              ⎟    ⎜      \n",
       "───(E(ε_c(x, t, w)⋅εᵤ(x, t, w))) = E⎜ε_c(x, t, w)⋅───(εᵤ(x, t, w))⎟ + E⎜εᵤ(x, \n",
       "  2                                 ⎜               2             ⎟    ⎜      \n",
       "∂x                                  ⎝             ∂x              ⎠    ⎝      \n",
       "\n",
       "        2              ⎞               \n",
       "       ∂               ⎟               \n",
       "t, w)⋅───(ε_c(x, t, w))⎟ + 2⋅g_cu(x, t)\n",
       "        2              ⎟               \n",
       "      ∂x               ⎠               "
      ]
     },
     "metadata": {},
     "output_type": "display_data"
    },
    {
     "data": {
      "image/png": "[encoded data removed]",
      "text/latex": [
       "$\\displaystyle \\frac{\\partial}{\\partial x} \\operatorname{g_{cu}}{\\left(x,t \\right)} = E{\\left(\\frac{\\partial}{\\partial x} \\epsilon_{c}{\\left(x,t,w \\right)} \\frac{\\partial^{2}}{\\partial x^{2}} \\epsilon_{u}{\\left(x,t,w \\right)} \\right)} + E{\\left(\\frac{\\partial^{2}}{\\partial x^{2}} \\epsilon_{c}{\\left(x,t,w \\right)} \\frac{\\partial}{\\partial x} \\epsilon_{u}{\\left(x,t,w \\right)} \\right)}$"
      ],
      "text/plain": [
       "                  ⎛                   2             ⎞    ⎛  2                 \n",
       "∂                 ⎜∂                 ∂              ⎟    ⎜ ∂                ∂ \n",
       "──(g_cu(x, t)) = E⎜──(ε_c(x, t, w))⋅───(εᵤ(x, t, w))⎟ + E⎜───(ε_c(x, t, w))⋅──\n",
       "∂x                ⎜∂x                 2             ⎟    ⎜  2               ∂x\n",
       "                  ⎝                 ∂x              ⎠    ⎝∂x                  \n",
       "\n",
       "             ⎞\n",
       "             ⎟\n",
       "(εᵤ(x, t, w))⎟\n",
       "             ⎟\n",
       "             ⎠"
      ]
     },
     "metadata": {},
     "output_type": "display_data"
    }
   ],
   "source": [
    "\n",
    "d = [Eq(Derivative(E(epsc*epsu), x), E(Derivative(epsu, x)*epsc) + E(Derivative(epsc, x)*epsu)), Eq(Derivative(E(epsc*epsu), x, 2), E(Derivative(epsu, x, 2)*epsc) + 2*gcu + E(Derivative(epsc, x, 2)*epsu)), Eq(Derivative(gcu, x), E(Derivative(epsu, x)*Derivative(epsc, x, 2))+E(Derivative(epsu, x, 2)*Derivative(epsc, x)))]\n",
    "for i in d:\n",
    "    display(i)"
   ]
  },
  {
   "cell_type": "markdown",
   "id": "67ec870f",
   "metadata": {},
   "source": [
    "### Relation Dérivée temporelle"
   ]
  },
  {
   "cell_type": "code",
   "execution_count": 91,
   "id": "644ae95b",
   "metadata": {},
   "outputs": [
    {
     "data": {
      "image/png": "[encoded data removed]",
      "text/latex": [
       "$\\displaystyle \\frac{\\partial}{\\partial t} \\operatorname{g_{cu}}{\\left(x,t \\right)} = ... + \\left(- \\frac{\\left(\\operatorname{V_{c}}{\\left(x,t \\right)} \\frac{\\partial}{\\partial x} \\operatorname{V_{cu}}{\\left(x,t \\right)} - \\operatorname{V_{cu}}{\\left(x,t \\right)} \\frac{\\partial}{\\partial x} \\operatorname{V_{c}}{\\left(x,t \\right)}\\right) \\frac{\\partial}{\\partial x} E{\\left(c{\\left(t,x \\right)} \\right)}}{\\operatorname{V_{c}}^{2}{\\left(x,t \\right)}} - \\frac{\\operatorname{V_{cu}}{\\left(x,t \\right)} \\frac{\\partial^{2}}{\\partial x^{2}} E{\\left(c{\\left(t,x \\right)} \\right)}}{\\operatorname{V_{c}}{\\left(x,t \\right)}}\\right) E{\\left(\\epsilon_{c}{\\left(x,t,w \\right)} \\frac{\\partial}{\\partial x} \\epsilon_{u}{\\left(x,t,w \\right)} \\right)} - \\left(\\frac{\\partial}{\\partial x} E{\\left(u{\\left(t,x \\right)} \\right)} + \\frac{\\operatorname{V_{cu}}{\\left(x,t \\right)} \\frac{\\partial}{\\partial x} E{\\left(c{\\left(t,x \\right)} \\right)}}{\\operatorname{V_{c}}{\\left(x,t \\right)}}\\right) \\operatorname{g_{cu}}{\\left(x,t \\right)} + E{\\left(\\frac{\\partial^{2}}{\\partial x^{2}} \\epsilon_{c}{\\left(x,t,w \\right)} \\frac{\\partial}{\\partial x} \\epsilon_{u}{\\left(x,t,w \\right)} \\right)} E{\\left(u{\\left(t,x \\right)} \\right)}$"
      ],
      "text/plain": [
       "                       ⎛                                                      \n",
       "                       ⎜                                                      \n",
       "                       ⎜  ⎛          ∂                           ∂            \n",
       "                       ⎜  ⎜V_c(x, t)⋅──(V_cu(x, t)) - V_cu(x, t)⋅──(V_c(x, t))\n",
       "∂                      ⎜  ⎝          ∂x                          ∂x           \n",
       "──(g_cu(x, t)) = ... + ⎜- ────────────────────────────────────────────────────\n",
       "∂t                     ⎜                                  2                   \n",
       "                       ⎝                               V_c (x, t)             \n",
       "\n",
       "                                2            ⎞                                \n",
       "                               ∂             ⎟                                \n",
       "⎞ ∂                V_cu(x, t)⋅───(E(c(t, x)))⎟                                \n",
       "⎟⋅──(E(c(t, x)))                2            ⎟                                \n",
       "⎠ ∂x                          ∂x             ⎟  ⎛             ∂              ⎞\n",
       "──────────────── - ──────────────────────────⎟⋅E⎜ε_c(x, t, w)⋅──(εᵤ(x, t, w))⎟\n",
       "                           V_c(x, t)         ⎟  ⎝             ∂x             ⎠\n",
       "                                             ⎠                                \n",
       "\n",
       "                                                                              \n",
       "                                                                              \n",
       "   ⎛                            ∂             ⎞                               \n",
       "   ⎜                 V_cu(x, t)⋅──(E(c(t, x)))⎟               ⎛  2            \n",
       "   ⎜∂                           ∂x            ⎟               ⎜ ∂             \n",
       " - ⎜──(E(u(t, x))) + ─────────────────────────⎟⋅g_cu(x, t) + E⎜───(ε_c(x, t, w\n",
       "   ⎝∂x                       V_c(x, t)        ⎠               ⎜  2            \n",
       "                                                              ⎝∂x             \n",
       "\n",
       "                              \n",
       "                              \n",
       "                              \n",
       "                  ⎞           \n",
       "   ∂              ⎟           \n",
       "))⋅──(εᵤ(x, t, w))⎟⋅E(u(t, x))\n",
       "   ∂x             ⎟           \n",
       "                  ⎠           "
      ]
     },
     "execution_count": 91,
     "metadata": {},
     "output_type": "execute_result"
    }
   ],
   "source": [
    "Add = symbols(\"...\")\n",
    "Eq(Derivative(gcu, t), -(((Derivative(Vcu, x)*Vc-Derivative(Vc, x)*Vcu)/Vc**2)*Derivative(E(c), x) + Vcu/Vc*Derivative(E(c), x, 2))*E(epsc*Derivative(epsu, x))- (Vcu/Vc*Derivative(E(c), x)+ Derivative(E(u), x))*gcu + E(u)*E(Derivative(epsu, x)*Derivative(epsc, x, 2)) + Add)"
   ]
  },
  {
   "cell_type": "code",
   "execution_count": 106,
   "id": "c4f39c41",
   "metadata": {},
   "outputs": [
    {
     "data": {
      "image/png": "[encoded data removed]",
      "text/latex": [
       "$\\displaystyle \\frac{\\partial}{\\partial t} E{\\left(\\epsilon_{c}{\\left(x,t,w \\right)} \\frac{\\partial}{\\partial x} \\epsilon_{u}{\\left(x,t,w \\right)} \\right)} = - \\frac{E{\\left(\\epsilon_{c}{\\left(x,t,w \\right)} \\frac{\\partial}{\\partial x} \\epsilon_{u}{\\left(x,t,w \\right)} \\right)} \\operatorname{V_{cu}}{\\left(x,t \\right)} \\frac{\\partial}{\\partial x} E{\\left(c{\\left(t,x \\right)} \\right)}}{\\operatorname{V_{c}}{\\left(x,t \\right)}} + E{\\left(u{\\left(t,x \\right)} \\right)} \\operatorname{g_{cu}}{\\left(x,t \\right)}$"
      ],
      "text/plain": [
       "                                         ⎛             ∂              ⎞       \n",
       "                                        E⎜ε_c(x, t, w)⋅──(εᵤ(x, t, w))⎟⋅V_cu(x\n",
       "∂ ⎛ ⎛             ∂              ⎞⎞      ⎝             ∂x             ⎠       \n",
       "──⎜E⎜ε_c(x, t, w)⋅──(εᵤ(x, t, w))⎟⎟ = - ──────────────────────────────────────\n",
       "∂t⎝ ⎝             ∂x             ⎠⎠                             V_c(x, t)     \n",
       "\n",
       "     ∂                                     \n",
       ", t)⋅──(E(c(t, x)))                        \n",
       "     ∂x                                    \n",
       "─────────────────── + E(u(t, x))⋅g_cu(x, t)\n",
       "                                           "
      ]
     },
     "metadata": {},
     "output_type": "display_data"
    },
    {
     "data": {
      "image/png": "[encoded data removed]",
      "text/latex": [
       "$\\displaystyle \\frac{\\partial}{\\partial t} E{\\left(\\epsilon_{u}{\\left(x,t,w \\right)} \\frac{\\partial}{\\partial x} \\epsilon_{c}{\\left(x,t,w \\right)} \\right)} = \\sqrt{\\frac{\\operatorname{V_{u}}{\\left(x,t \\right)}}{\\operatorname{V_{c}}{\\left(x,t \\right)}}} \\frac{\\partial^{2}}{\\partial x^{2}} E{\\left(c{\\left(t,x \\right)} \\right)} + \\left(\\frac{\\partial}{\\partial x} E{\\left(u{\\left(t,x \\right)} \\right)} + \\frac{\\operatorname{V_{cu}}{\\left(x,t \\right)} \\frac{\\partial}{\\partial x} E{\\left(c{\\left(t,x \\right)} \\right)}}{\\operatorname{V_{c}}{\\left(x,t \\right)}}\\right) E{\\left(\\epsilon_{u}{\\left(x,t,w \\right)} \\frac{\\partial}{\\partial x} \\epsilon_{c}{\\left(x,t,w \\right)} \\right)} + E{\\left(\\epsilon_{u}{\\left(x,t,w \\right)} \\frac{\\partial^{2}}{\\partial x^{2}} \\epsilon_{c}{\\left(x,t,w \\right)} \\right)} E{\\left(u{\\left(t,x \\right)} \\right)} + \\frac{\\left(\\operatorname{V_{c}}{\\left(x,t \\right)} \\frac{\\partial}{\\partial x} \\operatorname{V_{cu}}{\\left(x,t \\right)} - \\operatorname{V_{cu}}{\\left(x,t \\right)} \\frac{\\partial}{\\partial x} \\operatorname{V_{c}}{\\left(x,t \\right)}\\right) \\frac{\\partial}{\\partial x} E{\\left(c{\\left(t,x \\right)} \\right)}}{2 \\sqrt{\\operatorname{V_{c}}{\\left(x,t \\right)} \\operatorname{V_{u}}{\\left(x,t \\right)}} \\operatorname{V_{c}}{\\left(x,t \\right)}} + \\frac{\\left(- \\frac{\\left(\\operatorname{V_{c}}{\\left(x,t \\right)} \\frac{\\partial}{\\partial x} \\operatorname{V_{cu}}{\\left(x,t \\right)} - \\operatorname{V_{cu}}{\\left(x,t \\right)} \\frac{\\partial}{\\partial x} \\operatorname{V_{c}}{\\left(x,t \\right)}\\right) \\frac{\\partial}{\\partial x} E{\\left(c{\\left(t,x \\right)} \\right)}}{\\operatorname{V_{c}}^{2}{\\left(x,t \\right)}} - \\frac{\\operatorname{V_{cu}}{\\left(x,t \\right)} \\frac{\\partial^{2}}{\\partial x^{2}} E{\\left(c{\\left(t,x \\right)} \\right)}}{\\operatorname{V_{c}}{\\left(x,t \\right)}}\\right) \\operatorname{V_{cu}}{\\left(x,t \\right)}}{\\sqrt{\\operatorname{V_{c}}{\\left(x,t \\right)} \\operatorname{V_{u}}{\\left(x,t \\right)}}}$"
      ],
      "text/plain": [
       "                                                                              \n",
       "                                                                              \n",
       "                                                                              \n",
       "                                                                              \n",
       "                                                                              \n",
       "                                                                        ⎛     \n",
       "                                          ___________   2               ⎜     \n",
       "∂ ⎛ ⎛            ∂               ⎞⎞      ╱  Vᵤ(x, t)   ∂                ⎜∂    \n",
       "──⎜E⎜εᵤ(x, t, w)⋅──(ε_c(x, t, w))⎟⎟ =   ╱  ───────── ⋅───(E(c(t, x))) + ⎜──(E(\n",
       "∂t⎝ ⎝            ∂x              ⎠⎠   ╲╱   V_c(x, t)    2               ⎝∂x   \n",
       "                                                      ∂x                      \n",
       "\n",
       "                                                                              \n",
       "                                                                              \n",
       "                                                                              \n",
       "                                                                              \n",
       "                                                                              \n",
       "                       ∂             ⎞                                        \n",
       "            V_cu(x, t)⋅──(E(c(t, x)))⎟                                    ⎛   \n",
       "                       ∂x            ⎟  ⎛            ∂               ⎞    ⎜   \n",
       "u(t, x))) + ─────────────────────────⎟⋅E⎜εᵤ(x, t, w)⋅──(ε_c(x, t, w))⎟ + E⎜εᵤ(\n",
       "                    V_c(x, t)        ⎠  ⎝            ∂x              ⎠    ⎜   \n",
       "                                                                          ⎝   \n",
       "\n",
       "                                                                              \n",
       "                                                                              \n",
       "                                                                              \n",
       "                                                                              \n",
       "                                                                              \n",
       "                                         ⎛          ∂                         \n",
       "           2              ⎞              ⎜V_c(x, t)⋅──(V_cu(x, t)) - V_cu(x, t\n",
       "          ∂               ⎟              ⎝          ∂x                        \n",
       "x, t, w)⋅───(ε_c(x, t, w))⎟⋅E(u(t, x)) + ─────────────────────────────────────\n",
       "           2              ⎟                                   ________________\n",
       "         ∂x               ⎠                               2⋅╲╱ V_c(x, t)⋅Vᵤ(x,\n",
       "\n",
       "                                  ⎛                                           \n",
       "                                  ⎜                                           \n",
       "                                  ⎜  ⎛          ∂                           ∂ \n",
       "                                  ⎜  ⎜V_c(x, t)⋅──(V_cu(x, t)) - V_cu(x, t)⋅──\n",
       "                                  ⎜  ⎝          ∂x                          ∂x\n",
       "  ∂            ⎞ ∂                ⎜- ─────────────────────────────────────────\n",
       ")⋅──(V_c(x, t))⎟⋅──(E(c(t, x)))   ⎜                                  2        \n",
       "  ∂x           ⎠ ∂x               ⎝                               V_c (x, t)  \n",
       "─────────────────────────────── + ────────────────────────────────────────────\n",
       "____                                                                          \n",
       " t) ⋅V_c(x, t)                                                                \n",
       "\n",
       "                                           2            ⎞           \n",
       "                                          ∂             ⎟           \n",
       "           ⎞ ∂                V_cu(x, t)⋅───(E(c(t, x)))⎟           \n",
       "(V_c(x, t))⎟⋅──(E(c(t, x)))                2            ⎟           \n",
       "           ⎠ ∂x                          ∂x             ⎟           \n",
       "─────────────────────────── - ──────────────────────────⎟⋅V_cu(x, t)\n",
       "                                      V_c(x, t)         ⎟           \n",
       "                                                        ⎠           \n",
       "────────────────────────────────────────────────────────────────────\n",
       "   ____________________                                             \n",
       " ╲╱ V_c(x, t)⋅Vᵤ(x, t)                                              "
      ]
     },
     "metadata": {},
     "output_type": "display_data"
    }
   ],
   "source": [
    "Eq1 = Eq(Derivative(E(epsc*Derivative(epsu, x)), t), -Vcu/Vc*Derivative(E(c), x)*E(epsc*Derivative(epsu, x)) + E(u)*gcu )\n",
    "Eq2 = Eq(Derivative(E(epsu*Derivative(epsc, x)), t), -((Derivative(Vcu, x)*Vc-Derivative(Vc, x)*Vcu)/Vc**2*Derivative(E(c), x) + Vcu/Vc*Derivative(E(c), x, 2))*Vcu/sympy.sqrt(Vc*Vu) + (Vcu/Vc*Derivative(E(c), x)+Derivative(E(u), x))*E(epsu*Derivative(epsc, x)) + ((Derivative(Vcu, x)*Vc-Derivative(Vc, x)*Vcu)/(2*sympy.sqrt(Vc*Vu)*Vc)*Derivative(E(c), x)+ sympy.sqrt(Vu/Vc)*Derivative(E(c), x, 2)) + E(u)*E(epsu*Derivative(epsc, x, 2)))\n",
    "Equation = [Eq1, Eq2]\n",
    "for eq in Equation:\n",
    "    display(eq)"
   ]
  },
  {
   "cell_type": "code",
   "execution_count": null,
   "id": "bb30617b",
   "metadata": {},
   "outputs": [],
   "source": []
  }
 ],
 "metadata": {
  "kernelspec": {
   "display_name": "Python 3 (ipykernel)",
   "language": "python",
   "name": "python3"
  },
  "language_info": {
   "codemirror_mode": {
    "name": "ipython",
    "version": 3
   },
   "file_extension": ".py",
   "mimetype": "text/x-python",
   "name": "python",
   "nbconvert_exporter": "python",
   "pygments_lexer": "ipython3",
   "version": "3.11.5"
  }
 },
 "nbformat": 4,
 "nbformat_minor": 5
}
