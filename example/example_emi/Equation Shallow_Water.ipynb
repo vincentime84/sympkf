{
 "cells": [
  {
   "cell_type": "code",
   "execution_count": null,
   "id": "089fe74b",
   "metadata": {},
   "outputs": [],
   "source": [
    "import sympy\n",
    "sympy.init_printing() "
   ]
  },
  {
   "cell_type": "code",
   "execution_count": null,
   "id": "5de3ae2f",
   "metadata": {},
   "outputs": [],
   "source": [
    "from sympy import Function, Derivative, Eq, symbols\n",
    "from sympkf import SymbolicPKF, t, PDESystem, Expectation"
   ]
  },
  {
   "cell_type": "code",
   "execution_count": null,
   "id": "5cd63447",
   "metadata": {},
   "outputs": [],
   "source": [
    "x,y = symbols('x y')\n",
    "f = symbols('f')\n",
    "H = symbols('H')\n",
    "g = symbols('g')\n",
    "u = Function('u')(t, x, y)\n",
    "v = Function('v')(t, x, y)\n",
    "h = Function('h')(t, x, y)"
   ]
  },
  {
   "cell_type": "code",
   "execution_count": null,
   "id": "5c8e5697",
   "metadata": {},
   "outputs": [],
   "source": [
    "dynamics = [Eq(Derivative(h,t), -H*(Derivative(u,x)+Derivative(v,x))), Eq(Derivative(u,t),f*v-g*Derivative(h,x)), Eq(Derivative(v,t), -f*u-g*Derivative(h,y))]\n",
    "display(dynamics)"
   ]
  },
  {
   "cell_type": "code",
   "execution_count": null,
   "id": "da15a058",
   "metadata": {},
   "outputs": [],
   "source": [
    "dynamics = PDESystem(dynamics)\n",
    "dynamics"
   ]
  },
  {
   "cell_type": "code",
   "execution_count": null,
   "id": "711a01ab",
   "metadata": {},
   "outputs": [],
   "source": [
    "pkf_shallow_water = SymbolicPKF(dynamics)"
   ]
  },
  {
   "cell_type": "code",
   "execution_count": null,
   "id": "2020330c",
   "metadata": {
    "scrolled": false
   },
   "outputs": [],
   "source": [
    "for equation in pkf_shallow_water.in_metric:\n",
    "    display(equation)"
   ]
  },
  {
   "cell_type": "code",
   "execution_count": null,
   "id": "ab599676",
   "metadata": {},
   "outputs": [],
   "source": [
    "for term in pkf_shallow_water.unclosed_terms:\n",
    "    display(term)"
   ]
  },
  {
   "cell_type": "code",
   "execution_count": null,
   "id": "0c0093c8",
   "metadata": {},
   "outputs": [],
   "source": []
  }
 ],
 "metadata": {
  "kernelspec": {
   "display_name": "Python 3 (ipykernel)",
   "language": "python",
   "name": "python3"
  },
  "language_info": {
   "codemirror_mode": {
    "name": "ipython",
    "version": 3
   },
   "file_extension": ".py",
   "mimetype": "text/x-python",
   "name": "python",
   "nbconvert_exporter": "python",
   "pygments_lexer": "ipython3",
   "version": "3.9.7"
  }
 },
 "nbformat": 4,
 "nbformat_minor": 5
}
